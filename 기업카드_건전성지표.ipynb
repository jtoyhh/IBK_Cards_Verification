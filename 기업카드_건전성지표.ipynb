{
  "cells": [
    {
      "cell_type": "markdown",
      "metadata": {
        "id": "vL9u8xe4OXN4"
      },
      "source": [
        "# ▣ AI경진대회 본 과제\n",
        "### ===================================================================\n",
        "\n",
        "# <font size = \"20\">기업카드 건전성지표 발굴‧검증</font>\n",
        "\n",
        "### ===================================================================\n",
        "### AI Cell 제 2호과제\n",
        "#### 최근 여신,카드 등의 부실 징후의 선제적 관리를 통한 전행 여신건전성 강화가 중요시 되는 바,<br><br>기존 카드사업부에서 운영중인 '기업카드 부실예측 모형' 을 혁신기술 AI 기반 빅데이터 분석을 통해 고도화 하였음.<br><br>기존에 스코어링 방식의 룰베이스로 활용되던 28개의 특징변수를 291개로 확대 분석하였고, 딥러닝 알고리즘을 활용하여 <br><br> 자가학습을 통한 상관함수를 발굴하여 연체/정상 기업의 사전예측 정확도를 기존 60% 수준에서 75% 수준으로 향상시킴<br><br> 이에 따라 본 과제를 Toy Project 형태로 간소화 하였으며, 데이터분석 및 AI알고리즘을 연구하고자 하는 <br><br> 많은 당행 직원들을 대상으로 부실예측 모형을 직접 설계해보는 경험을 공유하고자 함\n",
        "\n",
        "#### -----------------------------------------------------------------------------------------------------------------------------------------\n",
        "\n",
        "\n",
        "### 과제 목표\n",
        "\n",
        "* 기업카드회원의 부실/정상을 예측하는 AI모형설계\n",
        "* 학습데이터셋으로 모형 학습 후 테스트데이터로 예측결과 제출 (submission.csv)\n",
        "\n",
        "\n",
        "\n",
        "\n",
        "### 경진대회 기간\n",
        "* 4/29 ~ 5/17 : 모형개발 및 산출결과 수시 제출\n",
        "* 5/20 ~ 5/24 : 최종평가 및 시상\n",
        "\n",
        "\n",
        "### 제출 방법 및 평가\n",
        "\n",
        "* 각자 개발한 AI모델을 통해 산출한 예측치를 (.csv)파일로 저장하여 웹메일로 제출\n",
        "* 제출처 (배규찬 : bbulcan@ibk.co.kr)\n",
        "* 각 참여자의 예측정확도 별로 순위 책정하여 개별 즉시 통보\n",
        "* 매주 1회 상위권자 순위 및 정확도 전체 공지\n",
        "\n",
        "#### -----------------------------------------------------------------------------------------------------------------------------------------\n",
        "### 데이터셋 구성\n",
        "\n",
        "* 학습데이터(Train.csv) : 기업회원 2,000개 (연체 1,000개,  정상 1,000개) --- label 있음\n",
        "* 테스트데이터(Test.csv) : 기업회원 400개 (연체 200개, 정상 200개) --- label 없음\n",
        "\n",
        "#### -----------------------------------------------------------------------------------------------------------------------------------------\n",
        "### 변수 설명\n",
        "* <b>행구분번호 : 전산고객번호</b>\n",
        "* <font color='yellow'><b>이진형(0, 1) 변수 (binary type)  -- 결측치 확인 및 수치변환 필요</b></font>\n",
        "* <font color='red'><b>수치형 변수 (Continuous type) -- 값의 범위 파악 및 스케일링 필요</b></font>\n",
        "* <font color='green'><b>시계열형 변수 (Time Series type) -- 수치형과 동일 + 시계열 파생지표 신규</b></font>\n",
        "* <font color='purple'><b>범주형 변수 (Categorical type) -- 수치변환 or One-Hot Encoding 필요</b></font>\n",
        "\n",
        "#### -----------------------------------------------------------------------------------------------------------------------------------------\n",
        "* <b>FK00  : 전산고객번호</b>\n",
        "* <font color='yellow'><b>BIN01 : 관리대상업종 여부</b></font>\n",
        "* <font color='yellow'><b>BIN02 : 기업불량정보_최근6개월내 당타행 연체일수 5일이상 여부</b></font>\n",
        "* <font color='yellow'><b>BIN03 : 대표자불량정보_대표자 최근6개월내 당타행 5일이상 계속연체 이력존재 여부</b></font>\n",
        "* <font color='yellow'><b>BIN04 : 기업불량정보_최근6개월내 불량사고코드 등재이력 여부</b></font>\n",
        "* <font color='yellow'><b>BIN05 : 재무정보_매출액 30%이상 감소여부</b></font>\n",
        "* <font color='red'><b>CON01 : 이용행태정보_최근6개월내 상품권 구입금액</b></font>\n",
        "* <font color='red'><b>CON02 : 이용행태정보_최근6개월내 유흥주점 이용금액</b></font>\n",
        "* <font color='red'><b>CON03 : 전월 카드이용한도</b></font>    \n",
        "* <font color='red'><b>CON04 : 전월 할부이용금액</b></font>    \n",
        "* <font color='red'><b>CON05 : 전월 대표자 현금서비스 이용금액</b></font>\n",
        "* <font color='red'><b>CON06 : 전월 대표자 장기카드대출 이용금액</b></font>\n",
        "* <font color='red'><b>CON07 : 전월 카드한도 소진율</b></font>\n",
        "* <font color='red'><b>CON08 : 리스크등급별 불량율</b></font>\n",
        "* <font color='red'><b>CON09 : 전월말기준 1개월 요구불예금 평잔</b></font>  \n",
        "* <font color='red'><b>CON10 : 전월말기준 1개월 총수신(외화예금, 신탁, MMDA 포함) 평잔</b></font> \n",
        "* <font color='green'><b>TIM01 : 기업카드 계정잔액_M-2</b></font>\n",
        "* <font color='green'><b>TIM02 : 기업카드 계정잔액_M-1</b></font>\n",
        "* <font color='green'><b>TIM03 : 기업카드 계정잔액_M-0</b></font>\n",
        "* <font color='green'><b>TIM04 : 기업카드 총이용금액_M-2</b></font>\n",
        "* <font color='green'><b>TIM05 : 기업카드 총이용금액_M-1</b></font>\n",
        "* <font color='green'><b>TIM06 : 기업카드 총이용금액_M-0</b></font>\n",
        "* <font color='purple'><b>CAT01 : 전월말 조기경보 등급</b></font>\n",
        "* <font color='purple'><b>CAT02 : 기업결합 조기경보등급_모니터링용</b></font>\n",
        "* <font color='purple'><b>CAT03 : 전월 신용등급</b></font>\n",
        "* <font color='purple'><b>CAT04 : 리스크모니터링 등급 </b></font>\n",
        "\n",
        "#### -----------------------------------------------------------------------------------------------------------------------------------------\n",
        "\n",
        "### <font color='red'>핵심 전처리 팁 : Scaling </font>\n",
        "\n",
        "* 통장개수 vs 평잔 을 떠올려보자.\n",
        "* 통장개수는 기껏해야 10개 내외지만, 평잔은 수억~수백억 까지의 값의 범위를 가지고 있다.\n",
        "* 이렇게 특징별로 값의 편차가 커지게 되면 학습이 제대로 이루어질 수 없다.\n",
        "* <font color='red'><b>그래서 동일한 범위로 값들을 Scale Down시켜주는 전처리 작업이 매우 중요하다.</b></font>\n",
        "\n",
        "### StandardScaler() in Sklearn package\n",
        "* sklearn package에서는 간단한 함수로 스케일링을 할 수 있다.\n",
        "* StandardScaler, RobustScalser, MinMaxScaler등 다양한 스케일 함수가 존재하고 (각 함수 특징은 자율학습)\n",
        "* 신경회로망의 경우 중간값 = 0, 편차범위가 -1 ~ +1 값으로 분포하는 StandardScaler()함수가 대체적으로 성능이 가장 좋다\n",
        "\n",
        "### 스케일의 핵심은\n",
        "\n",
        "#### ① Train_Data로만 scaler함수를 정의하고\n",
        "* scaler = StandardScaler().fit(Train_Data)  \n",
        "\n",
        "#### ② 모든 데이터셋을 변환시킨다\n",
        "* scaler.transform(Train_Data)\n",
        "* scaler.transform(Validation_Data)\n",
        "* scaler.transform(Test_Data)\n"
      ]
    },
    {
      "cell_type": "markdown",
      "metadata": {
        "id": "pUO79m_kOXOB"
      },
      "source": [
        "# 1. Import Packages"
      ]
    },
    {
      "cell_type": "code",
      "execution_count": null,
      "metadata": {
        "id": "UjY1Xj7bOXOC"
      },
      "outputs": [],
      "source": [
        "import warnings\n",
        "warnings.filterwarnings(action=\"ignore\")\n",
        "\n",
        "import pandas as pd\n",
        "import numpy as np\n",
        "import matplotlib.pyplot as plt\n",
        "import seaborn as sns\n",
        "%matplotlib inline"
      ]
    },
    {
      "cell_type": "markdown",
      "metadata": {
        "id": "yS2GI4z7OXOE"
      },
      "source": [
        "# 2. Load Dataset"
      ]
    },
    {
      "cell_type": "code",
      "source": [
        "from google.colab import drive\n",
        "drive.mount('/content/drive')"
      ],
      "metadata": {
        "colab": {
          "base_uri": "https://localhost:8080/"
        },
        "id": "vJpD_t4eQu2t",
        "outputId": "2a2fbdb2-44a3-49d5-f17e-5bca41ed7441"
      },
      "execution_count": null,
      "outputs": [
        {
          "output_type": "stream",
          "name": "stdout",
          "text": [
            "Drive already mounted at /content/drive; to attempt to forcibly remount, call drive.mount(\"/content/drive\", force_remount=True).\n"
          ]
        }
      ]
    },
    {
      "cell_type": "code",
      "execution_count": null,
      "metadata": {
        "id": "gcH0wuKpOXOF"
      },
      "outputs": [],
      "source": [
        "def file_read(filename):\n",
        "    \n",
        "    directory_path = \"/content/drive/MyDrive/IBK_Practice/data/\"\n",
        "    try:\n",
        "        tmp_file = pd.read_csv(directory_path + filename, index_col = 'FK00', encoding = 'CP949')\n",
        "    except:\n",
        "        tmp_file = pd.read_csv(directory_path + filename, index_col = 'FK00')\n",
        "    tmp_file.columns = tmp_file.columns.str.replace(\" \", \"\")  # 띄어쓰기 삭제\n",
        "    tmp_file = tmp_file.rename(columns = {'연체여부':'label'})\n",
        "    tmp_file = tmp_file.iloc[:, 1:]\n",
        "    \n",
        "    # Basic Preprocessing ( string to numeric)\n",
        "    try:\n",
        "        tmp_file.loc[tmp_file['label'] == '정상', 'label'] = 0\n",
        "        tmp_file.loc[tmp_file['label'] == '연체', 'label'] = 1\n",
        "    except: pass\n",
        "    tmp_file = tmp_file.replace(\"Y\", 1)\n",
        "    tmp_file = tmp_file.replace(\"N\", 0)\n",
        "    tmp_file = tmp_file.replace(\" \", 0)\n",
        "    \n",
        "    return tmp_file"
      ]
    },
    {
      "cell_type": "code",
      "execution_count": null,
      "metadata": {
        "scrolled": true,
        "id": "3VKSM3XfOXOG"
      },
      "outputs": [],
      "source": [
        "train = file_read('train.csv')\n",
        "test = file_read('test.csv')"
      ]
    },
    {
      "cell_type": "code",
      "execution_count": null,
      "metadata": {
        "id": "nyWKuW6DOXOG"
      },
      "outputs": [],
      "source": [
        "df_train = train.copy()\n",
        "df_test = test.copy()"
      ]
    },
    {
      "cell_type": "code",
      "source": [
        "df_train.head(3)"
      ],
      "metadata": {
        "colab": {
          "base_uri": "https://localhost:8080/",
          "height": 372
        },
        "id": "C7l2XqJxTAOq",
        "outputId": "357486c2-59ef-4ad6-84db-8fc7bc5a1dd9"
      },
      "execution_count": null,
      "outputs": [
        {
          "output_type": "execute_result",
          "data": {
            "text/plain": [
              "          BIN01  BIN02  BIN03  BIN04  BIN05   CON01    CON02     CON03  CON04  \\\n",
              "FK00                                                                            \n",
              "30854746      0      1      1      0      0  200000  2325000   2000000      0   \n",
              "25478652      0      0      0      0      0       0  5670000  50000000      0   \n",
              "13433345      0      0      0      0      0       0        0  40000000      0   \n",
              "\n",
              "          CON05  ...     TIM02     TIM03     TIM04     TIM05     TIM06  CAT01  \\\n",
              "FK00             ...                                                            \n",
              "30854746      0  ...  12332211   7487210   6646886   7000645    198180    5.0   \n",
              "25478652      0  ...   9385206  26408217  36469873  15957080  42023200    5.0   \n",
              "13433345      0  ...  11668756  12336126   6901886   8078071   6898870    4.0   \n",
              "\n",
              "          CAT02  CAT03   CAT04  label  \n",
              "FK00                                   \n",
              "30854746      9   16.0  개선점검_4      1  \n",
              "25478652      6   17.0  개선점검_4      1  \n",
              "13433345      7   14.0  개선점검_5      0  \n",
              "\n",
              "[3 rows x 26 columns]"
            ],
            "text/html": [
              "\n",
              "  <div id=\"df-df389e45-d554-4d83-aae3-f644ed07c660\">\n",
              "    <div class=\"colab-df-container\">\n",
              "      <div>\n",
              "<style scoped>\n",
              "    .dataframe tbody tr th:only-of-type {\n",
              "        vertical-align: middle;\n",
              "    }\n",
              "\n",
              "    .dataframe tbody tr th {\n",
              "        vertical-align: top;\n",
              "    }\n",
              "\n",
              "    .dataframe thead th {\n",
              "        text-align: right;\n",
              "    }\n",
              "</style>\n",
              "<table border=\"1\" class=\"dataframe\">\n",
              "  <thead>\n",
              "    <tr style=\"text-align: right;\">\n",
              "      <th></th>\n",
              "      <th>BIN01</th>\n",
              "      <th>BIN02</th>\n",
              "      <th>BIN03</th>\n",
              "      <th>BIN04</th>\n",
              "      <th>BIN05</th>\n",
              "      <th>CON01</th>\n",
              "      <th>CON02</th>\n",
              "      <th>CON03</th>\n",
              "      <th>CON04</th>\n",
              "      <th>CON05</th>\n",
              "      <th>...</th>\n",
              "      <th>TIM02</th>\n",
              "      <th>TIM03</th>\n",
              "      <th>TIM04</th>\n",
              "      <th>TIM05</th>\n",
              "      <th>TIM06</th>\n",
              "      <th>CAT01</th>\n",
              "      <th>CAT02</th>\n",
              "      <th>CAT03</th>\n",
              "      <th>CAT04</th>\n",
              "      <th>label</th>\n",
              "    </tr>\n",
              "    <tr>\n",
              "      <th>FK00</th>\n",
              "      <th></th>\n",
              "      <th></th>\n",
              "      <th></th>\n",
              "      <th></th>\n",
              "      <th></th>\n",
              "      <th></th>\n",
              "      <th></th>\n",
              "      <th></th>\n",
              "      <th></th>\n",
              "      <th></th>\n",
              "      <th></th>\n",
              "      <th></th>\n",
              "      <th></th>\n",
              "      <th></th>\n",
              "      <th></th>\n",
              "      <th></th>\n",
              "      <th></th>\n",
              "      <th></th>\n",
              "      <th></th>\n",
              "      <th></th>\n",
              "      <th></th>\n",
              "    </tr>\n",
              "  </thead>\n",
              "  <tbody>\n",
              "    <tr>\n",
              "      <th>30854746</th>\n",
              "      <td>0</td>\n",
              "      <td>1</td>\n",
              "      <td>1</td>\n",
              "      <td>0</td>\n",
              "      <td>0</td>\n",
              "      <td>200000</td>\n",
              "      <td>2325000</td>\n",
              "      <td>2000000</td>\n",
              "      <td>0</td>\n",
              "      <td>0</td>\n",
              "      <td>...</td>\n",
              "      <td>12332211</td>\n",
              "      <td>7487210</td>\n",
              "      <td>6646886</td>\n",
              "      <td>7000645</td>\n",
              "      <td>198180</td>\n",
              "      <td>5.0</td>\n",
              "      <td>9</td>\n",
              "      <td>16.0</td>\n",
              "      <td>개선점검_4</td>\n",
              "      <td>1</td>\n",
              "    </tr>\n",
              "    <tr>\n",
              "      <th>25478652</th>\n",
              "      <td>0</td>\n",
              "      <td>0</td>\n",
              "      <td>0</td>\n",
              "      <td>0</td>\n",
              "      <td>0</td>\n",
              "      <td>0</td>\n",
              "      <td>5670000</td>\n",
              "      <td>50000000</td>\n",
              "      <td>0</td>\n",
              "      <td>0</td>\n",
              "      <td>...</td>\n",
              "      <td>9385206</td>\n",
              "      <td>26408217</td>\n",
              "      <td>36469873</td>\n",
              "      <td>15957080</td>\n",
              "      <td>42023200</td>\n",
              "      <td>5.0</td>\n",
              "      <td>6</td>\n",
              "      <td>17.0</td>\n",
              "      <td>개선점검_4</td>\n",
              "      <td>1</td>\n",
              "    </tr>\n",
              "    <tr>\n",
              "      <th>13433345</th>\n",
              "      <td>0</td>\n",
              "      <td>0</td>\n",
              "      <td>0</td>\n",
              "      <td>0</td>\n",
              "      <td>0</td>\n",
              "      <td>0</td>\n",
              "      <td>0</td>\n",
              "      <td>40000000</td>\n",
              "      <td>0</td>\n",
              "      <td>0</td>\n",
              "      <td>...</td>\n",
              "      <td>11668756</td>\n",
              "      <td>12336126</td>\n",
              "      <td>6901886</td>\n",
              "      <td>8078071</td>\n",
              "      <td>6898870</td>\n",
              "      <td>4.0</td>\n",
              "      <td>7</td>\n",
              "      <td>14.0</td>\n",
              "      <td>개선점검_5</td>\n",
              "      <td>0</td>\n",
              "    </tr>\n",
              "  </tbody>\n",
              "</table>\n",
              "<p>3 rows × 26 columns</p>\n",
              "</div>\n",
              "      <button class=\"colab-df-convert\" onclick=\"convertToInteractive('df-df389e45-d554-4d83-aae3-f644ed07c660')\"\n",
              "              title=\"Convert this dataframe to an interactive table.\"\n",
              "              style=\"display:none;\">\n",
              "        \n",
              "  <svg xmlns=\"http://www.w3.org/2000/svg\" height=\"24px\"viewBox=\"0 0 24 24\"\n",
              "       width=\"24px\">\n",
              "    <path d=\"M0 0h24v24H0V0z\" fill=\"none\"/>\n",
              "    <path d=\"M18.56 5.44l.94 2.06.94-2.06 2.06-.94-2.06-.94-.94-2.06-.94 2.06-2.06.94zm-11 1L8.5 8.5l.94-2.06 2.06-.94-2.06-.94L8.5 2.5l-.94 2.06-2.06.94zm10 10l.94 2.06.94-2.06 2.06-.94-2.06-.94-.94-2.06-.94 2.06-2.06.94z\"/><path d=\"M17.41 7.96l-1.37-1.37c-.4-.4-.92-.59-1.43-.59-.52 0-1.04.2-1.43.59L10.3 9.45l-7.72 7.72c-.78.78-.78 2.05 0 2.83L4 21.41c.39.39.9.59 1.41.59.51 0 1.02-.2 1.41-.59l7.78-7.78 2.81-2.81c.8-.78.8-2.07 0-2.86zM5.41 20L4 18.59l7.72-7.72 1.47 1.35L5.41 20z\"/>\n",
              "  </svg>\n",
              "      </button>\n",
              "      \n",
              "  <style>\n",
              "    .colab-df-container {\n",
              "      display:flex;\n",
              "      flex-wrap:wrap;\n",
              "      gap: 12px;\n",
              "    }\n",
              "\n",
              "    .colab-df-convert {\n",
              "      background-color: #E8F0FE;\n",
              "      border: none;\n",
              "      border-radius: 50%;\n",
              "      cursor: pointer;\n",
              "      display: none;\n",
              "      fill: #1967D2;\n",
              "      height: 32px;\n",
              "      padding: 0 0 0 0;\n",
              "      width: 32px;\n",
              "    }\n",
              "\n",
              "    .colab-df-convert:hover {\n",
              "      background-color: #E2EBFA;\n",
              "      box-shadow: 0px 1px 2px rgba(60, 64, 67, 0.3), 0px 1px 3px 1px rgba(60, 64, 67, 0.15);\n",
              "      fill: #174EA6;\n",
              "    }\n",
              "\n",
              "    [theme=dark] .colab-df-convert {\n",
              "      background-color: #3B4455;\n",
              "      fill: #D2E3FC;\n",
              "    }\n",
              "\n",
              "    [theme=dark] .colab-df-convert:hover {\n",
              "      background-color: #434B5C;\n",
              "      box-shadow: 0px 1px 3px 1px rgba(0, 0, 0, 0.15);\n",
              "      filter: drop-shadow(0px 1px 2px rgba(0, 0, 0, 0.3));\n",
              "      fill: #FFFFFF;\n",
              "    }\n",
              "  </style>\n",
              "\n",
              "      <script>\n",
              "        const buttonEl =\n",
              "          document.querySelector('#df-df389e45-d554-4d83-aae3-f644ed07c660 button.colab-df-convert');\n",
              "        buttonEl.style.display =\n",
              "          google.colab.kernel.accessAllowed ? 'block' : 'none';\n",
              "\n",
              "        async function convertToInteractive(key) {\n",
              "          const element = document.querySelector('#df-df389e45-d554-4d83-aae3-f644ed07c660');\n",
              "          const dataTable =\n",
              "            await google.colab.kernel.invokeFunction('convertToInteractive',\n",
              "                                                     [key], {});\n",
              "          if (!dataTable) return;\n",
              "\n",
              "          const docLinkHtml = 'Like what you see? Visit the ' +\n",
              "            '<a target=\"_blank\" href=https://colab.research.google.com/notebooks/data_table.ipynb>data table notebook</a>'\n",
              "            + ' to learn more about interactive tables.';\n",
              "          element.innerHTML = '';\n",
              "          dataTable['output_type'] = 'display_data';\n",
              "          await google.colab.output.renderOutput(dataTable, element);\n",
              "          const docLink = document.createElement('div');\n",
              "          docLink.innerHTML = docLinkHtml;\n",
              "          element.appendChild(docLink);\n",
              "        }\n",
              "      </script>\n",
              "    </div>\n",
              "  </div>\n",
              "  "
            ]
          },
          "metadata": {},
          "execution_count": 6
        }
      ]
    },
    {
      "cell_type": "code",
      "source": [
        "df_test.head(3)"
      ],
      "metadata": {
        "colab": {
          "base_uri": "https://localhost:8080/",
          "height": 355
        },
        "id": "ihiu9BFB4f2X",
        "outputId": "4bace396-80c5-4557-89e5-5368d8ad94b8"
      },
      "execution_count": null,
      "outputs": [
        {
          "output_type": "execute_result",
          "data": {
            "text/plain": [
              "          BIN01  BIN02  BIN03  BIN04  BIN05  CON01  CON02     CON03    CON04  \\\n",
              "FK00                                                                           \n",
              "36799099      0      1      1      0      0      0      0   5000000  1454410   \n",
              "11454940      0      0      0      0      0      0      0  21700000        0   \n",
              "31764957      1      0      0      0      1      0      0   5000000        0   \n",
              "\n",
              "           CON05  ...    TIM01     TIM02    TIM03     TIM04     TIM05  \\\n",
              "FK00              ...                                                   \n",
              "36799099       0  ...  1072800   2376083  3702435         0   1735793   \n",
              "11454940       0  ...  8056098  10179370  7394818  10277238  12720020   \n",
              "31764957  600000  ...  4401789   4633000  4738204   3038179   1710721   \n",
              "\n",
              "            TIM06  CAT01  CAT02  CAT03   CAT04  \n",
              "FK00                                            \n",
              "36799099  1454410    5.0      9   10.0  개선점검_4  \n",
              "11454940  7974253    3.0      3   14.0  개선점검_5  \n",
              "31764957  3117823    1.0      7   13.0  관리대상    \n",
              "\n",
              "[3 rows x 25 columns]"
            ],
            "text/html": [
              "\n",
              "  <div id=\"df-8bef78d2-6f1e-4f37-be05-875b2d953f93\">\n",
              "    <div class=\"colab-df-container\">\n",
              "      <div>\n",
              "<style scoped>\n",
              "    .dataframe tbody tr th:only-of-type {\n",
              "        vertical-align: middle;\n",
              "    }\n",
              "\n",
              "    .dataframe tbody tr th {\n",
              "        vertical-align: top;\n",
              "    }\n",
              "\n",
              "    .dataframe thead th {\n",
              "        text-align: right;\n",
              "    }\n",
              "</style>\n",
              "<table border=\"1\" class=\"dataframe\">\n",
              "  <thead>\n",
              "    <tr style=\"text-align: right;\">\n",
              "      <th></th>\n",
              "      <th>BIN01</th>\n",
              "      <th>BIN02</th>\n",
              "      <th>BIN03</th>\n",
              "      <th>BIN04</th>\n",
              "      <th>BIN05</th>\n",
              "      <th>CON01</th>\n",
              "      <th>CON02</th>\n",
              "      <th>CON03</th>\n",
              "      <th>CON04</th>\n",
              "      <th>CON05</th>\n",
              "      <th>...</th>\n",
              "      <th>TIM01</th>\n",
              "      <th>TIM02</th>\n",
              "      <th>TIM03</th>\n",
              "      <th>TIM04</th>\n",
              "      <th>TIM05</th>\n",
              "      <th>TIM06</th>\n",
              "      <th>CAT01</th>\n",
              "      <th>CAT02</th>\n",
              "      <th>CAT03</th>\n",
              "      <th>CAT04</th>\n",
              "    </tr>\n",
              "    <tr>\n",
              "      <th>FK00</th>\n",
              "      <th></th>\n",
              "      <th></th>\n",
              "      <th></th>\n",
              "      <th></th>\n",
              "      <th></th>\n",
              "      <th></th>\n",
              "      <th></th>\n",
              "      <th></th>\n",
              "      <th></th>\n",
              "      <th></th>\n",
              "      <th></th>\n",
              "      <th></th>\n",
              "      <th></th>\n",
              "      <th></th>\n",
              "      <th></th>\n",
              "      <th></th>\n",
              "      <th></th>\n",
              "      <th></th>\n",
              "      <th></th>\n",
              "      <th></th>\n",
              "      <th></th>\n",
              "    </tr>\n",
              "  </thead>\n",
              "  <tbody>\n",
              "    <tr>\n",
              "      <th>36799099</th>\n",
              "      <td>0</td>\n",
              "      <td>1</td>\n",
              "      <td>1</td>\n",
              "      <td>0</td>\n",
              "      <td>0</td>\n",
              "      <td>0</td>\n",
              "      <td>0</td>\n",
              "      <td>5000000</td>\n",
              "      <td>1454410</td>\n",
              "      <td>0</td>\n",
              "      <td>...</td>\n",
              "      <td>1072800</td>\n",
              "      <td>2376083</td>\n",
              "      <td>3702435</td>\n",
              "      <td>0</td>\n",
              "      <td>1735793</td>\n",
              "      <td>1454410</td>\n",
              "      <td>5.0</td>\n",
              "      <td>9</td>\n",
              "      <td>10.0</td>\n",
              "      <td>개선점검_4</td>\n",
              "    </tr>\n",
              "    <tr>\n",
              "      <th>11454940</th>\n",
              "      <td>0</td>\n",
              "      <td>0</td>\n",
              "      <td>0</td>\n",
              "      <td>0</td>\n",
              "      <td>0</td>\n",
              "      <td>0</td>\n",
              "      <td>0</td>\n",
              "      <td>21700000</td>\n",
              "      <td>0</td>\n",
              "      <td>0</td>\n",
              "      <td>...</td>\n",
              "      <td>8056098</td>\n",
              "      <td>10179370</td>\n",
              "      <td>7394818</td>\n",
              "      <td>10277238</td>\n",
              "      <td>12720020</td>\n",
              "      <td>7974253</td>\n",
              "      <td>3.0</td>\n",
              "      <td>3</td>\n",
              "      <td>14.0</td>\n",
              "      <td>개선점검_5</td>\n",
              "    </tr>\n",
              "    <tr>\n",
              "      <th>31764957</th>\n",
              "      <td>1</td>\n",
              "      <td>0</td>\n",
              "      <td>0</td>\n",
              "      <td>0</td>\n",
              "      <td>1</td>\n",
              "      <td>0</td>\n",
              "      <td>0</td>\n",
              "      <td>5000000</td>\n",
              "      <td>0</td>\n",
              "      <td>600000</td>\n",
              "      <td>...</td>\n",
              "      <td>4401789</td>\n",
              "      <td>4633000</td>\n",
              "      <td>4738204</td>\n",
              "      <td>3038179</td>\n",
              "      <td>1710721</td>\n",
              "      <td>3117823</td>\n",
              "      <td>1.0</td>\n",
              "      <td>7</td>\n",
              "      <td>13.0</td>\n",
              "      <td>관리대상</td>\n",
              "    </tr>\n",
              "  </tbody>\n",
              "</table>\n",
              "<p>3 rows × 25 columns</p>\n",
              "</div>\n",
              "      <button class=\"colab-df-convert\" onclick=\"convertToInteractive('df-8bef78d2-6f1e-4f37-be05-875b2d953f93')\"\n",
              "              title=\"Convert this dataframe to an interactive table.\"\n",
              "              style=\"display:none;\">\n",
              "        \n",
              "  <svg xmlns=\"http://www.w3.org/2000/svg\" height=\"24px\"viewBox=\"0 0 24 24\"\n",
              "       width=\"24px\">\n",
              "    <path d=\"M0 0h24v24H0V0z\" fill=\"none\"/>\n",
              "    <path d=\"M18.56 5.44l.94 2.06.94-2.06 2.06-.94-2.06-.94-.94-2.06-.94 2.06-2.06.94zm-11 1L8.5 8.5l.94-2.06 2.06-.94-2.06-.94L8.5 2.5l-.94 2.06-2.06.94zm10 10l.94 2.06.94-2.06 2.06-.94-2.06-.94-.94-2.06-.94 2.06-2.06.94z\"/><path d=\"M17.41 7.96l-1.37-1.37c-.4-.4-.92-.59-1.43-.59-.52 0-1.04.2-1.43.59L10.3 9.45l-7.72 7.72c-.78.78-.78 2.05 0 2.83L4 21.41c.39.39.9.59 1.41.59.51 0 1.02-.2 1.41-.59l7.78-7.78 2.81-2.81c.8-.78.8-2.07 0-2.86zM5.41 20L4 18.59l7.72-7.72 1.47 1.35L5.41 20z\"/>\n",
              "  </svg>\n",
              "      </button>\n",
              "      \n",
              "  <style>\n",
              "    .colab-df-container {\n",
              "      display:flex;\n",
              "      flex-wrap:wrap;\n",
              "      gap: 12px;\n",
              "    }\n",
              "\n",
              "    .colab-df-convert {\n",
              "      background-color: #E8F0FE;\n",
              "      border: none;\n",
              "      border-radius: 50%;\n",
              "      cursor: pointer;\n",
              "      display: none;\n",
              "      fill: #1967D2;\n",
              "      height: 32px;\n",
              "      padding: 0 0 0 0;\n",
              "      width: 32px;\n",
              "    }\n",
              "\n",
              "    .colab-df-convert:hover {\n",
              "      background-color: #E2EBFA;\n",
              "      box-shadow: 0px 1px 2px rgba(60, 64, 67, 0.3), 0px 1px 3px 1px rgba(60, 64, 67, 0.15);\n",
              "      fill: #174EA6;\n",
              "    }\n",
              "\n",
              "    [theme=dark] .colab-df-convert {\n",
              "      background-color: #3B4455;\n",
              "      fill: #D2E3FC;\n",
              "    }\n",
              "\n",
              "    [theme=dark] .colab-df-convert:hover {\n",
              "      background-color: #434B5C;\n",
              "      box-shadow: 0px 1px 3px 1px rgba(0, 0, 0, 0.15);\n",
              "      filter: drop-shadow(0px 1px 2px rgba(0, 0, 0, 0.3));\n",
              "      fill: #FFFFFF;\n",
              "    }\n",
              "  </style>\n",
              "\n",
              "      <script>\n",
              "        const buttonEl =\n",
              "          document.querySelector('#df-8bef78d2-6f1e-4f37-be05-875b2d953f93 button.colab-df-convert');\n",
              "        buttonEl.style.display =\n",
              "          google.colab.kernel.accessAllowed ? 'block' : 'none';\n",
              "\n",
              "        async function convertToInteractive(key) {\n",
              "          const element = document.querySelector('#df-8bef78d2-6f1e-4f37-be05-875b2d953f93');\n",
              "          const dataTable =\n",
              "            await google.colab.kernel.invokeFunction('convertToInteractive',\n",
              "                                                     [key], {});\n",
              "          if (!dataTable) return;\n",
              "\n",
              "          const docLinkHtml = 'Like what you see? Visit the ' +\n",
              "            '<a target=\"_blank\" href=https://colab.research.google.com/notebooks/data_table.ipynb>data table notebook</a>'\n",
              "            + ' to learn more about interactive tables.';\n",
              "          element.innerHTML = '';\n",
              "          dataTable['output_type'] = 'display_data';\n",
              "          await google.colab.output.renderOutput(dataTable, element);\n",
              "          const docLink = document.createElement('div');\n",
              "          docLink.innerHTML = docLinkHtml;\n",
              "          element.appendChild(docLink);\n",
              "        }\n",
              "      </script>\n",
              "    </div>\n",
              "  </div>\n",
              "  "
            ]
          },
          "metadata": {},
          "execution_count": 7
        }
      ]
    },
    {
      "cell_type": "markdown",
      "metadata": {
        "id": "IBjBzT15OXOH"
      },
      "source": [
        "# 3. 결측치 확인"
      ]
    },
    {
      "cell_type": "code",
      "execution_count": null,
      "metadata": {
        "id": "2dfsePJiOXOI"
      },
      "outputs": [],
      "source": [
        "def null_values(DataFrame_Name):\n",
        "    \n",
        "    sum_null = DataFrame_Name.isnull().sum()\n",
        "    total_count = DataFrame_Name.isnull().count()\n",
        "    percent_nullvalues = sum_null / total_count * 100\n",
        "\n",
        "    df_null = pd.DataFrame()\n",
        "    df_null['Total_values'] = total_count\n",
        "    df_null['Null_Count'] = sum_null\n",
        "    df_null['Percent'] = percent_nullvalues\n",
        "    df_null = df_null.sort_values(by='Null_Count',ascending = False)\n",
        "\n",
        "    if sum_null.sum() > 0:\n",
        "        df_null = df_null[df_null['Percent'] > 0]        \n",
        "        f,ax = plt.subplots(figsize=(8,6))\n",
        "        plt.xticks(rotation='90')\n",
        "        fig = sns.barplot(df_null.index, df_null[\"Percent\"],color=\"blue\",alpha=0.8)\n",
        "        plt.xlabel('Features', fontsize=15)\n",
        "        plt.ylabel('Percent of missing values', fontsize=15)\n",
        "        plt.title('Percent missing data by feature', fontsize=15)\n",
        "\n",
        "    return(df_null)"
      ]
    },
    {
      "cell_type": "code",
      "execution_count": null,
      "metadata": {
        "scrolled": true,
        "colab": {
          "base_uri": "https://localhost:8080/",
          "height": 864
        },
        "id": "LrH-Z7ZaOXOJ",
        "outputId": "066119b6-2e12-4dc8-cedb-63d8ccc67ff1"
      },
      "outputs": [
        {
          "output_type": "execute_result",
          "data": {
            "text/plain": [
              "       Total_values  Null_Count  Percent\n",
              "BIN01          2000           0      0.0\n",
              "BIN02          2000           0      0.0\n",
              "CAT04          2000           0      0.0\n",
              "CAT03          2000           0      0.0\n",
              "CAT02          2000           0      0.0\n",
              "CAT01          2000           0      0.0\n",
              "TIM06          2000           0      0.0\n",
              "TIM05          2000           0      0.0\n",
              "TIM04          2000           0      0.0\n",
              "TIM03          2000           0      0.0\n",
              "TIM02          2000           0      0.0\n",
              "TIM01          2000           0      0.0\n",
              "CON10          2000           0      0.0\n",
              "CON09          2000           0      0.0\n",
              "CON08          2000           0      0.0\n",
              "CON07          2000           0      0.0\n",
              "CON06          2000           0      0.0\n",
              "CON05          2000           0      0.0\n",
              "CON04          2000           0      0.0\n",
              "CON03          2000           0      0.0\n",
              "CON02          2000           0      0.0\n",
              "CON01          2000           0      0.0\n",
              "BIN05          2000           0      0.0\n",
              "BIN04          2000           0      0.0\n",
              "BIN03          2000           0      0.0\n",
              "label          2000           0      0.0"
            ],
            "text/html": [
              "\n",
              "  <div id=\"df-879345dd-8422-48ae-810a-9dcddeaa5d44\">\n",
              "    <div class=\"colab-df-container\">\n",
              "      <div>\n",
              "<style scoped>\n",
              "    .dataframe tbody tr th:only-of-type {\n",
              "        vertical-align: middle;\n",
              "    }\n",
              "\n",
              "    .dataframe tbody tr th {\n",
              "        vertical-align: top;\n",
              "    }\n",
              "\n",
              "    .dataframe thead th {\n",
              "        text-align: right;\n",
              "    }\n",
              "</style>\n",
              "<table border=\"1\" class=\"dataframe\">\n",
              "  <thead>\n",
              "    <tr style=\"text-align: right;\">\n",
              "      <th></th>\n",
              "      <th>Total_values</th>\n",
              "      <th>Null_Count</th>\n",
              "      <th>Percent</th>\n",
              "    </tr>\n",
              "  </thead>\n",
              "  <tbody>\n",
              "    <tr>\n",
              "      <th>BIN01</th>\n",
              "      <td>2000</td>\n",
              "      <td>0</td>\n",
              "      <td>0.0</td>\n",
              "    </tr>\n",
              "    <tr>\n",
              "      <th>BIN02</th>\n",
              "      <td>2000</td>\n",
              "      <td>0</td>\n",
              "      <td>0.0</td>\n",
              "    </tr>\n",
              "    <tr>\n",
              "      <th>CAT04</th>\n",
              "      <td>2000</td>\n",
              "      <td>0</td>\n",
              "      <td>0.0</td>\n",
              "    </tr>\n",
              "    <tr>\n",
              "      <th>CAT03</th>\n",
              "      <td>2000</td>\n",
              "      <td>0</td>\n",
              "      <td>0.0</td>\n",
              "    </tr>\n",
              "    <tr>\n",
              "      <th>CAT02</th>\n",
              "      <td>2000</td>\n",
              "      <td>0</td>\n",
              "      <td>0.0</td>\n",
              "    </tr>\n",
              "    <tr>\n",
              "      <th>CAT01</th>\n",
              "      <td>2000</td>\n",
              "      <td>0</td>\n",
              "      <td>0.0</td>\n",
              "    </tr>\n",
              "    <tr>\n",
              "      <th>TIM06</th>\n",
              "      <td>2000</td>\n",
              "      <td>0</td>\n",
              "      <td>0.0</td>\n",
              "    </tr>\n",
              "    <tr>\n",
              "      <th>TIM05</th>\n",
              "      <td>2000</td>\n",
              "      <td>0</td>\n",
              "      <td>0.0</td>\n",
              "    </tr>\n",
              "    <tr>\n",
              "      <th>TIM04</th>\n",
              "      <td>2000</td>\n",
              "      <td>0</td>\n",
              "      <td>0.0</td>\n",
              "    </tr>\n",
              "    <tr>\n",
              "      <th>TIM03</th>\n",
              "      <td>2000</td>\n",
              "      <td>0</td>\n",
              "      <td>0.0</td>\n",
              "    </tr>\n",
              "    <tr>\n",
              "      <th>TIM02</th>\n",
              "      <td>2000</td>\n",
              "      <td>0</td>\n",
              "      <td>0.0</td>\n",
              "    </tr>\n",
              "    <tr>\n",
              "      <th>TIM01</th>\n",
              "      <td>2000</td>\n",
              "      <td>0</td>\n",
              "      <td>0.0</td>\n",
              "    </tr>\n",
              "    <tr>\n",
              "      <th>CON10</th>\n",
              "      <td>2000</td>\n",
              "      <td>0</td>\n",
              "      <td>0.0</td>\n",
              "    </tr>\n",
              "    <tr>\n",
              "      <th>CON09</th>\n",
              "      <td>2000</td>\n",
              "      <td>0</td>\n",
              "      <td>0.0</td>\n",
              "    </tr>\n",
              "    <tr>\n",
              "      <th>CON08</th>\n",
              "      <td>2000</td>\n",
              "      <td>0</td>\n",
              "      <td>0.0</td>\n",
              "    </tr>\n",
              "    <tr>\n",
              "      <th>CON07</th>\n",
              "      <td>2000</td>\n",
              "      <td>0</td>\n",
              "      <td>0.0</td>\n",
              "    </tr>\n",
              "    <tr>\n",
              "      <th>CON06</th>\n",
              "      <td>2000</td>\n",
              "      <td>0</td>\n",
              "      <td>0.0</td>\n",
              "    </tr>\n",
              "    <tr>\n",
              "      <th>CON05</th>\n",
              "      <td>2000</td>\n",
              "      <td>0</td>\n",
              "      <td>0.0</td>\n",
              "    </tr>\n",
              "    <tr>\n",
              "      <th>CON04</th>\n",
              "      <td>2000</td>\n",
              "      <td>0</td>\n",
              "      <td>0.0</td>\n",
              "    </tr>\n",
              "    <tr>\n",
              "      <th>CON03</th>\n",
              "      <td>2000</td>\n",
              "      <td>0</td>\n",
              "      <td>0.0</td>\n",
              "    </tr>\n",
              "    <tr>\n",
              "      <th>CON02</th>\n",
              "      <td>2000</td>\n",
              "      <td>0</td>\n",
              "      <td>0.0</td>\n",
              "    </tr>\n",
              "    <tr>\n",
              "      <th>CON01</th>\n",
              "      <td>2000</td>\n",
              "      <td>0</td>\n",
              "      <td>0.0</td>\n",
              "    </tr>\n",
              "    <tr>\n",
              "      <th>BIN05</th>\n",
              "      <td>2000</td>\n",
              "      <td>0</td>\n",
              "      <td>0.0</td>\n",
              "    </tr>\n",
              "    <tr>\n",
              "      <th>BIN04</th>\n",
              "      <td>2000</td>\n",
              "      <td>0</td>\n",
              "      <td>0.0</td>\n",
              "    </tr>\n",
              "    <tr>\n",
              "      <th>BIN03</th>\n",
              "      <td>2000</td>\n",
              "      <td>0</td>\n",
              "      <td>0.0</td>\n",
              "    </tr>\n",
              "    <tr>\n",
              "      <th>label</th>\n",
              "      <td>2000</td>\n",
              "      <td>0</td>\n",
              "      <td>0.0</td>\n",
              "    </tr>\n",
              "  </tbody>\n",
              "</table>\n",
              "</div>\n",
              "      <button class=\"colab-df-convert\" onclick=\"convertToInteractive('df-879345dd-8422-48ae-810a-9dcddeaa5d44')\"\n",
              "              title=\"Convert this dataframe to an interactive table.\"\n",
              "              style=\"display:none;\">\n",
              "        \n",
              "  <svg xmlns=\"http://www.w3.org/2000/svg\" height=\"24px\"viewBox=\"0 0 24 24\"\n",
              "       width=\"24px\">\n",
              "    <path d=\"M0 0h24v24H0V0z\" fill=\"none\"/>\n",
              "    <path d=\"M18.56 5.44l.94 2.06.94-2.06 2.06-.94-2.06-.94-.94-2.06-.94 2.06-2.06.94zm-11 1L8.5 8.5l.94-2.06 2.06-.94-2.06-.94L8.5 2.5l-.94 2.06-2.06.94zm10 10l.94 2.06.94-2.06 2.06-.94-2.06-.94-.94-2.06-.94 2.06-2.06.94z\"/><path d=\"M17.41 7.96l-1.37-1.37c-.4-.4-.92-.59-1.43-.59-.52 0-1.04.2-1.43.59L10.3 9.45l-7.72 7.72c-.78.78-.78 2.05 0 2.83L4 21.41c.39.39.9.59 1.41.59.51 0 1.02-.2 1.41-.59l7.78-7.78 2.81-2.81c.8-.78.8-2.07 0-2.86zM5.41 20L4 18.59l7.72-7.72 1.47 1.35L5.41 20z\"/>\n",
              "  </svg>\n",
              "      </button>\n",
              "      \n",
              "  <style>\n",
              "    .colab-df-container {\n",
              "      display:flex;\n",
              "      flex-wrap:wrap;\n",
              "      gap: 12px;\n",
              "    }\n",
              "\n",
              "    .colab-df-convert {\n",
              "      background-color: #E8F0FE;\n",
              "      border: none;\n",
              "      border-radius: 50%;\n",
              "      cursor: pointer;\n",
              "      display: none;\n",
              "      fill: #1967D2;\n",
              "      height: 32px;\n",
              "      padding: 0 0 0 0;\n",
              "      width: 32px;\n",
              "    }\n",
              "\n",
              "    .colab-df-convert:hover {\n",
              "      background-color: #E2EBFA;\n",
              "      box-shadow: 0px 1px 2px rgba(60, 64, 67, 0.3), 0px 1px 3px 1px rgba(60, 64, 67, 0.15);\n",
              "      fill: #174EA6;\n",
              "    }\n",
              "\n",
              "    [theme=dark] .colab-df-convert {\n",
              "      background-color: #3B4455;\n",
              "      fill: #D2E3FC;\n",
              "    }\n",
              "\n",
              "    [theme=dark] .colab-df-convert:hover {\n",
              "      background-color: #434B5C;\n",
              "      box-shadow: 0px 1px 3px 1px rgba(0, 0, 0, 0.15);\n",
              "      filter: drop-shadow(0px 1px 2px rgba(0, 0, 0, 0.3));\n",
              "      fill: #FFFFFF;\n",
              "    }\n",
              "  </style>\n",
              "\n",
              "      <script>\n",
              "        const buttonEl =\n",
              "          document.querySelector('#df-879345dd-8422-48ae-810a-9dcddeaa5d44 button.colab-df-convert');\n",
              "        buttonEl.style.display =\n",
              "          google.colab.kernel.accessAllowed ? 'block' : 'none';\n",
              "\n",
              "        async function convertToInteractive(key) {\n",
              "          const element = document.querySelector('#df-879345dd-8422-48ae-810a-9dcddeaa5d44');\n",
              "          const dataTable =\n",
              "            await google.colab.kernel.invokeFunction('convertToInteractive',\n",
              "                                                     [key], {});\n",
              "          if (!dataTable) return;\n",
              "\n",
              "          const docLinkHtml = 'Like what you see? Visit the ' +\n",
              "            '<a target=\"_blank\" href=https://colab.research.google.com/notebooks/data_table.ipynb>data table notebook</a>'\n",
              "            + ' to learn more about interactive tables.';\n",
              "          element.innerHTML = '';\n",
              "          dataTable['output_type'] = 'display_data';\n",
              "          await google.colab.output.renderOutput(dataTable, element);\n",
              "          const docLink = document.createElement('div');\n",
              "          docLink.innerHTML = docLinkHtml;\n",
              "          element.appendChild(docLink);\n",
              "        }\n",
              "      </script>\n",
              "    </div>\n",
              "  </div>\n",
              "  "
            ]
          },
          "metadata": {},
          "execution_count": 9
        }
      ],
      "source": [
        "null_values(df_train)"
      ]
    },
    {
      "cell_type": "markdown",
      "metadata": {
        "id": "JsoCc2ySOXOK"
      },
      "source": [
        "# 4. Exploratory Data Analysis"
      ]
    },
    {
      "cell_type": "markdown",
      "metadata": {
        "id": "Ga8slvrqOXOL"
      },
      "source": [
        "* Define Plotting Function"
      ]
    },
    {
      "cell_type": "code",
      "execution_count": null,
      "metadata": {
        "id": "KNz2Tq4TOXOL"
      },
      "outputs": [],
      "source": [
        "def CountPlot(train, fea, ncol):\n",
        "    plt.rcParams['figure.figsize'] = (10, 25)\n",
        "    plt.subplot(5, 1, ncol)\n",
        "    sns.countplot(data = train, x = fea, hue = 'label', palette=\"Set1\")\n",
        "    # hue : second column\n",
        "    # hue = 'label' => 0 : 정상 / 1 : 연체\n",
        "    # BIN01 : 관리대상업종 여부\n",
        "    # label : 연체 여부"
      ]
    },
    {
      "cell_type": "markdown",
      "metadata": {
        "id": "Mc7ynOJkOXOL"
      },
      "source": [
        "## 4-1. EDA of BIN"
      ]
    },
    {
      "cell_type": "code",
      "execution_count": null,
      "metadata": {
        "scrolled": false,
        "colab": {
          "base_uri": "https://localhost:8080/",
          "height": 1000
        },
        "id": "rovfPObSOXOM",
        "outputId": "8731eeb3-44cd-436d-a5d4-bd62be11f7c4"
      },
      "outputs": [
        {
          "output_type": "display_data",
          "data": {
            "text/plain": [
              "<Figure size 720x1800 with 5 Axes>"
            ],
            "image/png": "[encoded data removed]"
          },
          "metadata": {
            "needs_background": "light"
          }
        }
      ],
      "source": [
        "CountPlot(df_train, 'BIN01', 1) # label 0 : 정상 1 : 연체\n",
        "CountPlot(df_train, 'BIN02', 2) # BIN01 0 : 정상 1 : 관리대상업종\n",
        "CountPlot(df_train, 'BIN03', 3)\n",
        "CountPlot(df_train, 'BIN04', 4)\n",
        "CountPlot(df_train, 'BIN05', 5)"
      ]
    },
    {
      "cell_type": "markdown",
      "metadata": {
        "id": "n8eWilJ3OXOM"
      },
      "source": [
        "* BIN05는 변별력이 거의 없다. 즉, 제외가능하다\n",
        "* BIN02, BIN03은 유형별 분류가 명확하므로 상당히 유의하다\n",
        "* BIN01, BIN04는 상대적으로 변별력이 약하지만 유형별 특징은 관찰 가능하다\n",
        "```\n",
        "BIN01 : 관리대상업종 여부\n",
        "BIN02 : 기업불량정보_최근6개월내 당타행 연체일수 5일이상 여부\n",
        "BIN03 : 대표자불량정보_대표자 최근6개월내 당타행 5일이상 계속연체 이력존재 여부\n",
        "BIN04 : 기업불량정보_최근6개월내 불량사고코드 등재이력 여부\n",
        "BIN05 : 재무정보_매출액 30%이상 감소여부\n",
        "```"
      ]
    },
    {
      "cell_type": "code",
      "execution_count": null,
      "metadata": {
        "id": "kd1XkDlpOXOM"
      },
      "outputs": [],
      "source": [
        "try:\n",
        "    df_train.drop('BIN05', axis = 1, inplace = True)\n",
        "    df_test.drop('BIN05', axis = 1, inplace = True)\n",
        "except: pass"
      ]
    },
    {
      "cell_type": "code",
      "source": [
        "df_train.info()"
      ],
      "metadata": {
        "colab": {
          "base_uri": "https://localhost:8080/"
        },
        "id": "GQbqQENgxFtt",
        "outputId": "a3fdd560-55f9-427b-adb2-433a2f1e2a55"
      },
      "execution_count": null,
      "outputs": [
        {
          "output_type": "stream",
          "name": "stdout",
          "text": [
            "<class 'pandas.core.frame.DataFrame'>\n",
            "Int64Index: 2000 entries, 30854746 to 34482136\n",
            "Data columns (total 25 columns):\n",
            " #   Column  Non-Null Count  Dtype  \n",
            "---  ------  --------------  -----  \n",
            " 0   BIN01   2000 non-null   int64  \n",
            " 1   BIN02   2000 non-null   int64  \n",
            " 2   BIN03   2000 non-null   int64  \n",
            " 3   BIN04   2000 non-null   int64  \n",
            " 4   CON01   2000 non-null   int64  \n",
            " 5   CON02   2000 non-null   int64  \n",
            " 6   CON03   2000 non-null   int64  \n",
            " 7   CON04   2000 non-null   int64  \n",
            " 8   CON05   2000 non-null   int64  \n",
            " 9   CON06   2000 non-null   int64  \n",
            " 10  CON07   2000 non-null   float64\n",
            " 11  CON08   2000 non-null   float64\n",
            " 12  CON09   2000 non-null   float64\n",
            " 13  CON10   2000 non-null   float64\n",
            " 14  TIM01   2000 non-null   int64  \n",
            " 15  TIM02   2000 non-null   int64  \n",
            " 16  TIM03   2000 non-null   int64  \n",
            " 17  TIM04   2000 non-null   int64  \n",
            " 18  TIM05   2000 non-null   int64  \n",
            " 19  TIM06   2000 non-null   int64  \n",
            " 20  CAT01   2000 non-null   float64\n",
            " 21  CAT02   2000 non-null   int64  \n",
            " 22  CAT03   2000 non-null   float64\n",
            " 23  CAT04   2000 non-null   object \n",
            " 24  label   2000 non-null   int64  \n",
            "dtypes: float64(6), int64(18), object(1)\n",
            "memory usage: 470.8+ KB\n"
          ]
        }
      ]
    },
    {
      "cell_type": "markdown",
      "metadata": {
        "id": "WqfSueFeOXON"
      },
      "source": [
        "## 4-2. EDA of CAT"
      ]
    },
    {
      "cell_type": "markdown",
      "metadata": {
        "id": "OiyZUbY1OXON"
      },
      "source": [
        "* CAT04 : 리스크모니터링 등급"
      ]
    },
    {
      "cell_type": "code",
      "execution_count": null,
      "metadata": {
        "colab": {
          "base_uri": "https://localhost:8080/"
        },
        "id": "MhNDD5WGOXON",
        "outputId": "95eab165-c7d1-453c-ab56-94f1fd7614cc"
      },
      "outputs": [
        {
          "output_type": "execute_result",
          "data": {
            "text/plain": [
              "array(['개선점검_4', '개선점검_5', '본부집중  ', '동일인매출', '관리대상  ', '개선점검_2',\n",
              "       '개선점검_6', '개선점검_3'], dtype=object)"
            ]
          },
          "metadata": {},
          "execution_count": 14
        }
      ],
      "source": [
        "df_train['CAT04'].unique()"
      ]
    },
    {
      "cell_type": "code",
      "execution_count": null,
      "metadata": {
        "id": "FfRlTJ41OXOO"
      },
      "outputs": [],
      "source": [
        "map_cat04 = {'개선점검_2' : 'inspect_2',\n",
        "            '개선점검_3' : 'inspect_3',\n",
        "            '개선점검_4' : 'inspect_4',\n",
        "            '개선점검_5' : 'inspect_5',\n",
        "            '개선점검_6' : 'inspect_6',\n",
        "            '본부집중  ' : 'concentrate',\n",
        "            '동일인매출' : 'sales',\n",
        "            '관리대상  ' : 'monitor'}"
      ]
    },
    {
      "cell_type": "code",
      "execution_count": null,
      "metadata": {
        "id": "i5FvfUVcOXOO"
      },
      "outputs": [],
      "source": [
        "df_train['CAT04_eng'] = df_train['CAT04'].map(map_cat04)\n",
        "df_test['CAT04_eng'] = df_test['CAT04'].map(map_cat04)"
      ]
    },
    {
      "cell_type": "code",
      "execution_count": null,
      "metadata": {
        "scrolled": true,
        "colab": {
          "base_uri": "https://localhost:8080/",
          "height": 298
        },
        "id": "rOA-kpVpOXOO",
        "outputId": "0ae26af6-f7a5-4947-c30f-11672c883b9c"
      },
      "outputs": [
        {
          "output_type": "display_data",
          "data": {
            "text/plain": [
              "<Figure size 720x1800 with 1 Axes>"
            ],
            "image/png": "[encoded data removed]"
          },
          "metadata": {
            "needs_background": "light"
          }
        }
      ],
      "source": [
        "CountPlot(df_train, 'CAT04_eng', 1)"
      ]
    },
    {
      "cell_type": "markdown",
      "metadata": {
        "id": "HOArVOkaOXOO"
      },
      "source": [
        "* 'inspect_5', 'inspect_6', 'sales', 'concentrate' 의 경우 정상기업이 압도적으로 많다 (abs_good)\n",
        "* 'inspect_2', 'inspect_4', 'monitor' 의 경우 연체기업이 상대적으로 많다. (rel_good)\n",
        "* 'inspect_3' 의 경우 정상기업이 상대적으로 많다. (rel_bad)\n",
        "* 이를 통해 CAT04_eng 의 피쳐는 3개의 그룹핑을 할 수 있다. (abs_good, rel_good, rel_bad)"
      ]
    },
    {
      "cell_type": "code",
      "execution_count": null,
      "metadata": {
        "id": "PKpyY_g9OXOP"
      },
      "outputs": [],
      "source": [
        "df_train.loc[(df_train['CAT04_eng'] == 'inspect_5') | (df_train['CAT04_eng'] == 'inspect_6') | (df_train['CAT04_eng'] == 'sales') | (df_train['CAT04_eng'] == 'concentrate'), 'CAT04_new'] = 'abs_good'\n",
        "df_train.loc[(df_train['CAT04_eng'] == 'inspect_2') | (df_train['CAT04_eng'] == 'inspect_4') | (df_train['CAT04_eng'] == 'monitor'), 'CAT04_new'] = 'rel_bad'\n",
        "df_train.loc[(df_train['CAT04_eng'] == 'inspect_3'), 'CAT04_new'] = 'rel_good'\n",
        "\n",
        "df_test.loc[(df_test['CAT04_eng'] == 'inspect_5') | (df_test['CAT04_eng'] == 'inspect_6') | (df_test['CAT04_eng'] == 'sales') | (df_test['CAT04_eng'] == 'concentrate'), 'CAT04_new'] = 'abs_good'\n",
        "df_test.loc[(df_test['CAT04_eng'] == 'inspect_2') | (df_test['CAT04_eng'] == 'inspect_4') | (df_test['CAT04_eng'] == 'monitor'), 'CAT04_new'] = 'rel_bad'\n",
        "df_test.loc[(df_test['CAT04_eng'] == 'inspect_3'), 'CAT04_new'] = 'rel_good'"
      ]
    },
    {
      "cell_type": "code",
      "execution_count": null,
      "metadata": {
        "scrolled": true,
        "colab": {
          "base_uri": "https://localhost:8080/",
          "height": 298
        },
        "id": "PLJpC7E9OXOP",
        "outputId": "a120fb85-1ae5-4938-af0f-4234e5591e9e"
      },
      "outputs": [
        {
          "output_type": "display_data",
          "data": {
            "text/plain": [
              "<Figure size 720x1800 with 1 Axes>"
            ],
            "image/png": "[encoded data removed]"
          },
          "metadata": {
            "needs_background": "light"
          }
        }
      ],
      "source": [
        "CountPlot(df_train, 'CAT04_new', 1)"
      ]
    },
    {
      "cell_type": "markdown",
      "metadata": {
        "id": "pOXxnOtoOXOP"
      },
      "source": [
        "* CAT02 : 기업결합 조기경보등급 모니터링용\n",
        "* 지서치 내 조회 가능"
      ]
    },
    {
      "cell_type": "code",
      "execution_count": null,
      "metadata": {
        "scrolled": true,
        "colab": {
          "base_uri": "https://localhost:8080/",
          "height": 296
        },
        "id": "1-i-m3BYOXOP",
        "outputId": "ae58ceef-bd7f-4408-ecf3-3ea950f807ba"
      },
      "outputs": [
        {
          "output_type": "display_data",
          "data": {
            "text/plain": [
              "<Figure size 720x1800 with 1 Axes>"
            ],
            "image/png": "[encoded data removed]"
          },
          "metadata": {
            "needs_background": "light"
          }
        }
      ],
      "source": [
        "CountPlot(df_train, 'CAT02', 1)"
      ]
    },
    {
      "cell_type": "markdown",
      "metadata": {
        "id": "534MAYdHOXOQ"
      },
      "source": [
        "* 6이하 : 정상이 졸라 많다 => **기업 신용 등급 GOOD**\n",
        "* 7 : 변별력이 젤 떨어지지만 어쨌건 연체가 상대적으로 많다.\n",
        "* 8이상 : 연체가 졸라 많다 => **기업 신용 등급 BAD**"
      ]
    },
    {
      "cell_type": "code",
      "execution_count": null,
      "metadata": {
        "id": "H1GqtcODOXOQ"
      },
      "outputs": [],
      "source": [
        "df_train.loc[(df_train['CAT02'] <= 6), 'CAT02_new'] = 'abs_good'\n",
        "df_train.loc[(df_train['CAT02'] == 7), 'CAT02_new'] = 'rel_bad'\n",
        "df_train.loc[(df_train['CAT02'] >= 8), 'CAT02_new'] = 'abs_bad'\n",
        "\n",
        "df_test.loc[(df_test['CAT02'] <= 6), 'CAT02_new'] = 'abs_good'\n",
        "df_test.loc[(df_test['CAT02'] == 7), 'CAT02_new'] = 'rel_bad'\n",
        "df_test.loc[(df_test['CAT02'] >= 8), 'CAT02_new'] = 'abs_bad'"
      ]
    },
    {
      "cell_type": "code",
      "execution_count": null,
      "metadata": {
        "colab": {
          "base_uri": "https://localhost:8080/",
          "height": 298
        },
        "id": "LjgkoUWdOXOQ",
        "outputId": "75ac683a-bb0e-4488-c19a-6bf89350a3ff"
      },
      "outputs": [
        {
          "output_type": "display_data",
          "data": {
            "text/plain": [
              "<Figure size 720x1800 with 1 Axes>"
            ],
            "image/png": "[encoded data removed]"
          },
          "metadata": {
            "needs_background": "light"
          }
        }
      ],
      "source": [
        "CountPlot(df_train, 'CAT02_new', 1)"
      ]
    },
    {
      "cell_type": "markdown",
      "metadata": {
        "id": "9K_h_khyOXOQ"
      },
      "source": [
        "* CAT01 : 전월말 조기경보 등급"
      ]
    },
    {
      "cell_type": "code",
      "execution_count": null,
      "metadata": {
        "scrolled": false,
        "colab": {
          "base_uri": "https://localhost:8080/",
          "height": 297
        },
        "id": "QIJgfnc1OXOQ",
        "outputId": "96481e41-3662-477b-8308-ef528ba900c6"
      },
      "outputs": [
        {
          "output_type": "display_data",
          "data": {
            "text/plain": [
              "<Figure size 720x1800 with 1 Axes>"
            ],
            "image/png": "[encoded data removed]"
          },
          "metadata": {
            "needs_background": "light"
          }
        }
      ],
      "source": [
        "CountPlot(df_train, 'CAT01', 1)"
      ]
    },
    {
      "cell_type": "markdown",
      "metadata": {
        "id": "g6yhSqL_OXOR"
      },
      "source": [
        "* 3 이하 : 정상기업이 많이 분포되어있음\n",
        "* 4 이상 : 연체기업이 많이 분포되어있음\n",
        "* 구분이 뚜렷하고 유형이 많지 않으므로 통째로 원핫인코딩 하자"
      ]
    },
    {
      "cell_type": "markdown",
      "source": [
        "### One-Hot Encoding\n",
        ">>\n",
        "원-핫 인코딩은 단어 집합의 크기를 벡터의 차원으로 하고, 표현하고 싶은 단어의 인덱스에 1의 값을 부여하고, 다른 인덱스에는 0을 부여하는 단어의 벡터 표현 방식입니다. 이렇게 표현된 벡터를 원-핫 벡터(One-Hot vector)라고 합니다.\n",
        "\n",
        ">>\n",
        "원-핫 인코딩을 두 가지 과정으로 정리해보겠습니다.\n",
        "- 첫째, 정수 인코딩을 수행합니다. 다시 말해 각 단어에 고유한 정수를 부여합니다. \n",
        "- 둘째, 표현하고 싶은 단어의 고유한 정수를 인덱스로 간주하고 해당 위치에 1을 부여하고, 다른 단어의 인덱스의 위치에는 0을 부여합니다."
      ],
      "metadata": {
        "id": "QY5OWpmNlaHI"
      }
    },
    {
      "cell_type": "code",
      "execution_count": null,
      "metadata": {
        "id": "WmlMtLIyOXOR"
      },
      "outputs": [],
      "source": [
        "df_train['CAT01'] = df_train['CAT01'].astype('int')\n",
        "df_train['CAT01'] = df_train['CAT01'].astype('str')\n",
        "df_test['CAT01'] = df_test['CAT01'].astype('str')"
      ]
    },
    {
      "cell_type": "markdown",
      "metadata": {
        "id": "4dPrkp0UOXOR"
      },
      "source": [
        "* CAT03 : 전월 신용등급"
      ]
    },
    {
      "cell_type": "code",
      "execution_count": null,
      "metadata": {
        "id": "Xq80ovUDOXOR"
      },
      "outputs": [],
      "source": [
        "df_train['CAT03'] = df_train['CAT03'].astype('int')"
      ]
    },
    {
      "cell_type": "code",
      "execution_count": null,
      "metadata": {
        "scrolled": true,
        "colab": {
          "base_uri": "https://localhost:8080/",
          "height": 296
        },
        "id": "0S04TCWdOXOS",
        "outputId": "331ae7f0-9664-435b-8cb8-f1e0999861e8"
      },
      "outputs": [
        {
          "output_type": "display_data",
          "data": {
            "text/plain": [
              "<Figure size 720x1800 with 1 Axes>"
            ],
            "image/png": "[encoded data removed]"
          },
          "metadata": {
            "needs_background": "light"
          }
        }
      ],
      "source": [
        "CountPlot(df_train, 'CAT03', 1)"
      ]
    },
    {
      "cell_type": "markdown",
      "metadata": {
        "id": "Q7Qe02eWOXOS"
      },
      "source": [
        "* 1 ~ 7 : 정상기업이 많이 분포\n",
        "* 8 ~10 : 연체기업이 많이 분포\n",
        "* 11~15 : 정상기업이 많이 분포\n",
        "* 16~   : 잘 모르겠음... 기타로 분류해보자"
      ]
    },
    {
      "cell_type": "code",
      "source": [
        "# 내 Custom\n",
        "df_train.loc[(df_train['CAT03'] <= 6), 'CAT03_new'] = 'abs_good'\n",
        "df_train.loc[(df_train['CAT03'] == 7), 'CAT03_new'] = 'rel_good'\n",
        "df_train.loc[(df_train['CAT03'] == 8), 'CAT03_new'] = 'rel_bad'\n",
        "df_train.loc[(df_train['CAT03'] >= 9) & (df_train['CAT03'] <= 10), 'CAT03_new'] = 'abs_bad'\n",
        "df_train.loc[(df_train['CAT03'] >= 11) & (df_train['CAT03'] <= 12), 'CAT03_new'] = 'rel_good'\n",
        "df_train.loc[(df_train['CAT03'] >= 13) & (df_train['CAT03'] <= 15), 'CAT03_new'] = 'abs_good'\n",
        "df_train.loc[(df_train['CAT03'] >= 16) & (df_train['CAT03'] <= 17), 'CAT03_new'] = 'abs_bad'\n",
        "df_train.loc[(df_train['CAT03'] == 18), 'CAT03_new'] = 'abs_good'\n",
        "df_train.loc[(df_train['CAT03'] == 20), 'CAT03_new'] = 'abs_bad'\n",
        "\n",
        "\n",
        "df_test.loc[(df_test['CAT03'] <= 6), 'CAT03_new'] = 'abs_good'\n",
        "df_test.loc[(df_test['CAT03'] == 7), 'CAT03_new'] = 'rel_good'\n",
        "df_test.loc[(df_test['CAT03'] == 8), 'CAT03_new'] = 'rel_bad'\n",
        "df_test.loc[(df_test['CAT03'] >= 9) & (df_test['CAT03'] <= 10), 'CAT03_new'] = 'abs_bad'\n",
        "df_test.loc[(df_test['CAT03'] >= 11) & (df_test['CAT03'] <= 12), 'CAT03_new'] = 'rel_good'\n",
        "df_test.loc[(df_test['CAT03'] >= 13) & (df_test['CAT03'] <= 15), 'CAT03_new'] = 'abs_good'\n",
        "df_test.loc[(df_test['CAT03'] >= 16) & (df_test['CAT03'] <= 17), 'CAT03_new'] = 'abs_bad'\n",
        "df_test.loc[(df_test['CAT03'] == 18), 'CAT03_new'] = 'abs_good'\n",
        "df_test.loc[(df_test['CAT03'] == 20), 'CAT03_new'] = 'abs_bad'"
      ],
      "metadata": {
        "id": "y40hGa4z5AUK"
      },
      "execution_count": null,
      "outputs": []
    },
    {
      "cell_type": "code",
      "execution_count": null,
      "metadata": {
        "id": "BJDPeXWAOXOS"
      },
      "outputs": [],
      "source": [
        "# # Solution\n",
        "# df_train.loc[(df_train['CAT03'] <= 7), 'CAT03_new'] = 'rel_good'\n",
        "# df_train.loc[(df_train['CAT03'] >= 8) & (df_train['CAT03'] <= 10), 'CAT03_new'] = 'rel_bad'\n",
        "# df_train.loc[(df_train['CAT03'] >= 11) & (df_train['CAT03'] <= 15), 'CAT03_new'] = 'rel_good'\n",
        "# df_train.loc[(df_train['CAT03'] >= 16), 'CAT03_new'] = 'etc'\n",
        "\n",
        "# df_test.loc[(df_test['CAT03'] <= 7), 'CAT03_new'] = 'rel_good'\n",
        "# df_test.loc[(df_test['CAT03'] >= 8) & (df_test['CAT03'] <= 10), 'CAT03_new'] = 'rel_bad'\n",
        "# df_test.loc[(df_test['CAT03'] >= 11) & (df_test['CAT03'] <= 15), 'CAT03_new'] = 'rel_good'\n",
        "# df_test.loc[(df_test['CAT03'] >= 16), 'CAT03_new'] = 'etc'"
      ]
    },
    {
      "cell_type": "markdown",
      "metadata": {
        "id": "UrXE1ELwOXOS"
      },
      "source": [
        "## 4-3. EDA of CON"
      ]
    },
    {
      "cell_type": "code",
      "execution_count": null,
      "metadata": {
        "colab": {
          "base_uri": "https://localhost:8080/"
        },
        "id": "_Na7SkIvOXOS",
        "outputId": "88e425af-6dbd-4c6f-9223-44e73b5c3191"
      },
      "outputs": [
        {
          "output_type": "execute_result",
          "data": {
            "text/plain": [
              "Index(['BIN01', 'BIN02', 'BIN03', 'BIN04', 'CON01', 'CON02', 'CON03', 'CON04',\n",
              "       'CON05', 'CON06', 'CON07', 'CON08', 'CON09', 'CON10', 'TIM01', 'TIM02',\n",
              "       'TIM03', 'TIM04', 'TIM05', 'TIM06', 'CAT01', 'CAT02', 'CAT03', 'CAT04',\n",
              "       'label', 'CAT04_eng', 'CAT04_new', 'CAT02_new', 'CAT03_new'],\n",
              "      dtype='object')"
            ]
          },
          "metadata": {},
          "execution_count": 29
        }
      ],
      "source": [
        "df_train.columns"
      ]
    },
    {
      "cell_type": "markdown",
      "metadata": {
        "id": "j6sceHyXOXOT"
      },
      "source": [
        "* 연속형 변수명들만 따로 모아보자"
      ]
    },
    {
      "cell_type": "code",
      "execution_count": null,
      "metadata": {
        "id": "3a4Z7zCWOXOT"
      },
      "outputs": [],
      "source": [
        "col_numeric = ['CON01', 'CON02', 'CON03', 'CON04','CON05', 'CON06', 'CON07', 'CON08', 'CON09', 'CON10',\n",
        "               'TIM01', 'TIM02', 'TIM03', 'TIM04', 'TIM05', 'TIM06']"
      ]
    },
    {
      "cell_type": "code",
      "execution_count": null,
      "metadata": {
        "id": "xrO0H8nHOXOT"
      },
      "outputs": [],
      "source": [
        "num_train = df_train[col_numeric]\n",
        "num_test = df_test[col_numeric]"
      ]
    },
    {
      "cell_type": "markdown",
      "metadata": {
        "id": "Yj_cjhuVOXOT"
      },
      "source": [
        "### 갓갓 describe()함수를 사용해서 백분위 분포를 한눈에 확인해봅시다."
      ]
    },
    {
      "cell_type": "code",
      "execution_count": null,
      "metadata": {
        "scrolled": true,
        "colab": {
          "base_uri": "https://localhost:8080/",
          "height": 364
        },
        "id": "kPydaaloOXOT",
        "outputId": "bc6cd067-4ca5-4cf3-c85b-3e4a625d04cc"
      },
      "outputs": [
        {
          "output_type": "execute_result",
          "data": {
            "text/plain": [
              "              CON01         CON02         CON03         CON04         CON05  \\\n",
              "count  2.000000e+03  2.000000e+03  2.000000e+03  2.000000e+03  2.000000e+03   \n",
              "mean   1.678849e+05  8.723058e+05  4.080440e+07  3.968124e+06  6.043000e+04   \n",
              "std    1.110020e+06  3.120369e+06  1.014036e+08  2.484605e+07  4.021417e+05   \n",
              "min    0.000000e+00  0.000000e+00  0.000000e+00  0.000000e+00  0.000000e+00   \n",
              "25%    0.000000e+00  0.000000e+00  5.000000e+06  0.000000e+00  0.000000e+00   \n",
              "50%    0.000000e+00  0.000000e+00  1.500000e+07  0.000000e+00  0.000000e+00   \n",
              "75%    0.000000e+00  3.150000e+05  3.000000e+07  1.116965e+06  0.000000e+00   \n",
              "max    2.600000e+07  6.388950e+07  2.000000e+09  6.532955e+08  6.000000e+06   \n",
              "\n",
              "              CON06        CON07   CON08         CON09         CON10  \\\n",
              "count  2.000000e+03  2000.000000  2000.0  2.000000e+03  2.000000e+03   \n",
              "mean   1.015000e+04    56.130275     0.0  1.743980e+08  5.174889e+08   \n",
              "std    2.622525e+05    48.252027     0.0  1.182345e+09  4.573916e+09   \n",
              "min    0.000000e+00     0.000000     0.0  0.000000e+00  0.000000e+00   \n",
              "25%    0.000000e+00    24.327500     0.0  3.487119e+04  4.647445e+05   \n",
              "50%    0.000000e+00    54.105000     0.0  8.809043e+05  4.032236e+06   \n",
              "75%    0.000000e+00    83.717500     0.0  1.101653e+07  4.211323e+07   \n",
              "max    7.000000e+06   999.990000     0.0  2.244097e+10  1.637660e+11   \n",
              "\n",
              "              TIM01         TIM02         TIM03         TIM04         TIM05  \\\n",
              "count  2.000000e+03  2.000000e+03  2.000000e+03  2.000000e+03  2.000000e+03   \n",
              "mean   1.885628e+07  1.819753e+07  1.913632e+07  1.527425e+07  1.636649e+07   \n",
              "std    5.300998e+07  5.634754e+07  5.544753e+07  5.334624e+07  6.144181e+07   \n",
              "min    0.000000e+00  0.000000e+00  0.000000e+00  0.000000e+00  0.000000e+00   \n",
              "25%    2.373632e+06  2.437284e+06  2.564275e+06  1.455400e+06  1.587523e+06   \n",
              "50%    6.511755e+06  6.106683e+06  6.309698e+06  4.115158e+06  4.332980e+06   \n",
              "75%    1.644773e+07  1.546609e+07  1.517905e+07  1.121057e+07  1.101506e+07   \n",
              "max    9.212379e+08  1.093004e+09  9.806659e+08  1.305511e+09  1.337494e+09   \n",
              "\n",
              "              TIM06  \n",
              "count  2.000000e+03  \n",
              "mean   1.407412e+07  \n",
              "std    4.822217e+07  \n",
              "min    0.000000e+00  \n",
              "25%    1.011020e+06  \n",
              "50%    3.446698e+06  \n",
              "75%    9.697229e+06  \n",
              "max    8.065470e+08  "
            ],
            "text/html": [
              "\n",
              "  <div id=\"df-f3162420-3387-45dc-a2d1-7b44a8f1d6f3\">\n",
              "    <div class=\"colab-df-container\">\n",
              "      <div>\n",
              "<style scoped>\n",
              "    .dataframe tbody tr th:only-of-type {\n",
              "        vertical-align: middle;\n",
              "    }\n",
              "\n",
              "    .dataframe tbody tr th {\n",
              "        vertical-align: top;\n",
              "    }\n",
              "\n",
              "    .dataframe thead th {\n",
              "        text-align: right;\n",
              "    }\n",
              "</style>\n",
              "<table border=\"1\" class=\"dataframe\">\n",
              "  <thead>\n",
              "    <tr style=\"text-align: right;\">\n",
              "      <th></th>\n",
              "      <th>CON01</th>\n",
              "      <th>CON02</th>\n",
              "      <th>CON03</th>\n",
              "      <th>CON04</th>\n",
              "      <th>CON05</th>\n",
              "      <th>CON06</th>\n",
              "      <th>CON07</th>\n",
              "      <th>CON08</th>\n",
              "      <th>CON09</th>\n",
              "      <th>CON10</th>\n",
              "      <th>TIM01</th>\n",
              "      <th>TIM02</th>\n",
              "      <th>TIM03</th>\n",
              "      <th>TIM04</th>\n",
              "      <th>TIM05</th>\n",
              "      <th>TIM06</th>\n",
              "    </tr>\n",
              "  </thead>\n",
              "  <tbody>\n",
              "    <tr>\n",
              "      <th>count</th>\n",
              "      <td>2.000000e+03</td>\n",
              "      <td>2.000000e+03</td>\n",
              "      <td>2.000000e+03</td>\n",
              "      <td>2.000000e+03</td>\n",
              "      <td>2.000000e+03</td>\n",
              "      <td>2.000000e+03</td>\n",
              "      <td>2000.000000</td>\n",
              "      <td>2000.0</td>\n",
              "      <td>2.000000e+03</td>\n",
              "      <td>2.000000e+03</td>\n",
              "      <td>2.000000e+03</td>\n",
              "      <td>2.000000e+03</td>\n",
              "      <td>2.000000e+03</td>\n",
              "      <td>2.000000e+03</td>\n",
              "      <td>2.000000e+03</td>\n",
              "      <td>2.000000e+03</td>\n",
              "    </tr>\n",
              "    <tr>\n",
              "      <th>mean</th>\n",
              "      <td>1.678849e+05</td>\n",
              "      <td>8.723058e+05</td>\n",
              "      <td>4.080440e+07</td>\n",
              "      <td>3.968124e+06</td>\n",
              "      <td>6.043000e+04</td>\n",
              "      <td>1.015000e+04</td>\n",
              "      <td>56.130275</td>\n",
              "      <td>0.0</td>\n",
              "      <td>1.743980e+08</td>\n",
              "      <td>5.174889e+08</td>\n",
              "      <td>1.885628e+07</td>\n",
              "      <td>1.819753e+07</td>\n",
              "      <td>1.913632e+07</td>\n",
              "      <td>1.527425e+07</td>\n",
              "      <td>1.636649e+07</td>\n",
              "      <td>1.407412e+07</td>\n",
              "    </tr>\n",
              "    <tr>\n",
              "      <th>std</th>\n",
              "      <td>1.110020e+06</td>\n",
              "      <td>3.120369e+06</td>\n",
              "      <td>1.014036e+08</td>\n",
              "      <td>2.484605e+07</td>\n",
              "      <td>4.021417e+05</td>\n",
              "      <td>2.622525e+05</td>\n",
              "      <td>48.252027</td>\n",
              "      <td>0.0</td>\n",
              "      <td>1.182345e+09</td>\n",
              "      <td>4.573916e+09</td>\n",
              "      <td>5.300998e+07</td>\n",
              "      <td>5.634754e+07</td>\n",
              "      <td>5.544753e+07</td>\n",
              "      <td>5.334624e+07</td>\n",
              "      <td>6.144181e+07</td>\n",
              "      <td>4.822217e+07</td>\n",
              "    </tr>\n",
              "    <tr>\n",
              "      <th>min</th>\n",
              "      <td>0.000000e+00</td>\n",
              "      <td>0.000000e+00</td>\n",
              "      <td>0.000000e+00</td>\n",
              "      <td>0.000000e+00</td>\n",
              "      <td>0.000000e+00</td>\n",
              "      <td>0.000000e+00</td>\n",
              "      <td>0.000000</td>\n",
              "      <td>0.0</td>\n",
              "      <td>0.000000e+00</td>\n",
              "      <td>0.000000e+00</td>\n",
              "      <td>0.000000e+00</td>\n",
              "      <td>0.000000e+00</td>\n",
              "      <td>0.000000e+00</td>\n",
              "      <td>0.000000e+00</td>\n",
              "      <td>0.000000e+00</td>\n",
              "      <td>0.000000e+00</td>\n",
              "    </tr>\n",
              "    <tr>\n",
              "      <th>25%</th>\n",
              "      <td>0.000000e+00</td>\n",
              "      <td>0.000000e+00</td>\n",
              "      <td>5.000000e+06</td>\n",
              "      <td>0.000000e+00</td>\n",
              "      <td>0.000000e+00</td>\n",
              "      <td>0.000000e+00</td>\n",
              "      <td>24.327500</td>\n",
              "      <td>0.0</td>\n",
              "      <td>3.487119e+04</td>\n",
              "      <td>4.647445e+05</td>\n",
              "      <td>2.373632e+06</td>\n",
              "      <td>2.437284e+06</td>\n",
              "      <td>2.564275e+06</td>\n",
              "      <td>1.455400e+06</td>\n",
              "      <td>1.587523e+06</td>\n",
              "      <td>1.011020e+06</td>\n",
              "    </tr>\n",
              "    <tr>\n",
              "      <th>50%</th>\n",
              "      <td>0.000000e+00</td>\n",
              "      <td>0.000000e+00</td>\n",
              "      <td>1.500000e+07</td>\n",
              "      <td>0.000000e+00</td>\n",
              "      <td>0.000000e+00</td>\n",
              "      <td>0.000000e+00</td>\n",
              "      <td>54.105000</td>\n",
              "      <td>0.0</td>\n",
              "      <td>8.809043e+05</td>\n",
              "      <td>4.032236e+06</td>\n",
              "      <td>6.511755e+06</td>\n",
              "      <td>6.106683e+06</td>\n",
              "      <td>6.309698e+06</td>\n",
              "      <td>4.115158e+06</td>\n",
              "      <td>4.332980e+06</td>\n",
              "      <td>3.446698e+06</td>\n",
              "    </tr>\n",
              "    <tr>\n",
              "      <th>75%</th>\n",
              "      <td>0.000000e+00</td>\n",
              "      <td>3.150000e+05</td>\n",
              "      <td>3.000000e+07</td>\n",
              "      <td>1.116965e+06</td>\n",
              "      <td>0.000000e+00</td>\n",
              "      <td>0.000000e+00</td>\n",
              "      <td>83.717500</td>\n",
              "      <td>0.0</td>\n",
              "      <td>1.101653e+07</td>\n",
              "      <td>4.211323e+07</td>\n",
              "      <td>1.644773e+07</td>\n",
              "      <td>1.546609e+07</td>\n",
              "      <td>1.517905e+07</td>\n",
              "      <td>1.121057e+07</td>\n",
              "      <td>1.101506e+07</td>\n",
              "      <td>9.697229e+06</td>\n",
              "    </tr>\n",
              "    <tr>\n",
              "      <th>max</th>\n",
              "      <td>2.600000e+07</td>\n",
              "      <td>6.388950e+07</td>\n",
              "      <td>2.000000e+09</td>\n",
              "      <td>6.532955e+08</td>\n",
              "      <td>6.000000e+06</td>\n",
              "      <td>7.000000e+06</td>\n",
              "      <td>999.990000</td>\n",
              "      <td>0.0</td>\n",
              "      <td>2.244097e+10</td>\n",
              "      <td>1.637660e+11</td>\n",
              "      <td>9.212379e+08</td>\n",
              "      <td>1.093004e+09</td>\n",
              "      <td>9.806659e+08</td>\n",
              "      <td>1.305511e+09</td>\n",
              "      <td>1.337494e+09</td>\n",
              "      <td>8.065470e+08</td>\n",
              "    </tr>\n",
              "  </tbody>\n",
              "</table>\n",
              "</div>\n",
              "      <button class=\"colab-df-convert\" onclick=\"convertToInteractive('df-f3162420-3387-45dc-a2d1-7b44a8f1d6f3')\"\n",
              "              title=\"Convert this dataframe to an interactive table.\"\n",
              "              style=\"display:none;\">\n",
              "        \n",
              "  <svg xmlns=\"http://www.w3.org/2000/svg\" height=\"24px\"viewBox=\"0 0 24 24\"\n",
              "       width=\"24px\">\n",
              "    <path d=\"M0 0h24v24H0V0z\" fill=\"none\"/>\n",
              "    <path d=\"M18.56 5.44l.94 2.06.94-2.06 2.06-.94-2.06-.94-.94-2.06-.94 2.06-2.06.94zm-11 1L8.5 8.5l.94-2.06 2.06-.94-2.06-.94L8.5 2.5l-.94 2.06-2.06.94zm10 10l.94 2.06.94-2.06 2.06-.94-2.06-.94-.94-2.06-.94 2.06-2.06.94z\"/><path d=\"M17.41 7.96l-1.37-1.37c-.4-.4-.92-.59-1.43-.59-.52 0-1.04.2-1.43.59L10.3 9.45l-7.72 7.72c-.78.78-.78 2.05 0 2.83L4 21.41c.39.39.9.59 1.41.59.51 0 1.02-.2 1.41-.59l7.78-7.78 2.81-2.81c.8-.78.8-2.07 0-2.86zM5.41 20L4 18.59l7.72-7.72 1.47 1.35L5.41 20z\"/>\n",
              "  </svg>\n",
              "      </button>\n",
              "      \n",
              "  <style>\n",
              "    .colab-df-container {\n",
              "      display:flex;\n",
              "      flex-wrap:wrap;\n",
              "      gap: 12px;\n",
              "    }\n",
              "\n",
              "    .colab-df-convert {\n",
              "      background-color: #E8F0FE;\n",
              "      border: none;\n",
              "      border-radius: 50%;\n",
              "      cursor: pointer;\n",
              "      display: none;\n",
              "      fill: #1967D2;\n",
              "      height: 32px;\n",
              "      padding: 0 0 0 0;\n",
              "      width: 32px;\n",
              "    }\n",
              "\n",
              "    .colab-df-convert:hover {\n",
              "      background-color: #E2EBFA;\n",
              "      box-shadow: 0px 1px 2px rgba(60, 64, 67, 0.3), 0px 1px 3px 1px rgba(60, 64, 67, 0.15);\n",
              "      fill: #174EA6;\n",
              "    }\n",
              "\n",
              "    [theme=dark] .colab-df-convert {\n",
              "      background-color: #3B4455;\n",
              "      fill: #D2E3FC;\n",
              "    }\n",
              "\n",
              "    [theme=dark] .colab-df-convert:hover {\n",
              "      background-color: #434B5C;\n",
              "      box-shadow: 0px 1px 3px 1px rgba(0, 0, 0, 0.15);\n",
              "      filter: drop-shadow(0px 1px 2px rgba(0, 0, 0, 0.3));\n",
              "      fill: #FFFFFF;\n",
              "    }\n",
              "  </style>\n",
              "\n",
              "      <script>\n",
              "        const buttonEl =\n",
              "          document.querySelector('#df-f3162420-3387-45dc-a2d1-7b44a8f1d6f3 button.colab-df-convert');\n",
              "        buttonEl.style.display =\n",
              "          google.colab.kernel.accessAllowed ? 'block' : 'none';\n",
              "\n",
              "        async function convertToInteractive(key) {\n",
              "          const element = document.querySelector('#df-f3162420-3387-45dc-a2d1-7b44a8f1d6f3');\n",
              "          const dataTable =\n",
              "            await google.colab.kernel.invokeFunction('convertToInteractive',\n",
              "                                                     [key], {});\n",
              "          if (!dataTable) return;\n",
              "\n",
              "          const docLinkHtml = 'Like what you see? Visit the ' +\n",
              "            '<a target=\"_blank\" href=https://colab.research.google.com/notebooks/data_table.ipynb>data table notebook</a>'\n",
              "            + ' to learn more about interactive tables.';\n",
              "          element.innerHTML = '';\n",
              "          dataTable['output_type'] = 'display_data';\n",
              "          await google.colab.output.renderOutput(dataTable, element);\n",
              "          const docLink = document.createElement('div');\n",
              "          docLink.innerHTML = docLinkHtml;\n",
              "          element.appendChild(docLink);\n",
              "        }\n",
              "      </script>\n",
              "    </div>\n",
              "  </div>\n",
              "  "
            ]
          },
          "metadata": {},
          "execution_count": 32
        }
      ],
      "source": [
        "num_train.describe()"
      ]
    },
    {
      "cell_type": "markdown",
      "metadata": {
        "id": "34IPppXDOXOU"
      },
      "source": [
        "* CON07, CON08은 비율을 나타내는 변수이다\n",
        "* CON07의 최대치는 999.99로 비율의 범주에는 맞지 않는 수치이므로 100이상은 100으로 saturation해보자\n",
        "* CON08은 모든 값이 0으로 분포되어있으므로 제외하자\n",
        "* CON01, CON05, CON06은 값의 쏠림현상이 06 > 05 > 01 순으로 크다. 대부분의 값이 0으로 변별력이 적을 것으로 예상된다.(제외고려)"
      ]
    },
    {
      "cell_type": "code",
      "source": [
        "# My Custom\n",
        "df_train['CON07'] = df_train['CON07'] / 100\n",
        "df_train.drop('CON08', axis = 1, inplace = True)\n",
        "\n",
        "df_test['CON07'] = df_test['CON07'] / 100\n",
        "df_test.drop('CON08', axis = 1, inplace = True)\n",
        "\n",
        "df_train.drop('CON01', axis = 1, inplace = True)\n",
        "df_test.drop('CON01', axis = 1, inplace = True)\n",
        "\n",
        "df_train.drop('CON05', axis = 1, inplace = True)\n",
        "df_test.drop('CON05', axis = 1, inplace = True)\n",
        "\n",
        "df_train.drop('CON06', axis = 1, inplace = True)\n",
        "df_test.drop('CON06', axis = 1, inplace = True)"
      ],
      "metadata": {
        "id": "b3tag3tY87Oy"
      },
      "execution_count": null,
      "outputs": []
    },
    {
      "cell_type": "code",
      "source": [
        "df_train.describe()"
      ],
      "metadata": {
        "colab": {
          "base_uri": "https://localhost:8080/",
          "height": 364
        },
        "id": "VnX2z2mJzKjK",
        "outputId": "dc9ac805-f0c6-451e-86ab-add2dafc22a1"
      },
      "execution_count": null,
      "outputs": [
        {
          "output_type": "execute_result",
          "data": {
            "text/plain": [
              "             BIN01        BIN02        BIN03        BIN04         CON02  \\\n",
              "count  2000.000000  2000.000000  2000.000000  2000.000000  2.000000e+03   \n",
              "mean      0.178500     0.442500     0.414000     0.060500  8.723058e+05   \n",
              "std       0.383029     0.496807     0.492672     0.238471  3.120369e+06   \n",
              "min       0.000000     0.000000     0.000000     0.000000  0.000000e+00   \n",
              "25%       0.000000     0.000000     0.000000     0.000000  0.000000e+00   \n",
              "50%       0.000000     0.000000     0.000000     0.000000  0.000000e+00   \n",
              "75%       0.000000     1.000000     1.000000     0.000000  3.150000e+05   \n",
              "max       1.000000     1.000000     1.000000     1.000000  6.388950e+07   \n",
              "\n",
              "              CON03         CON04        CON07         CON09         CON10  \\\n",
              "count  2.000000e+03  2.000000e+03  2000.000000  2.000000e+03  2.000000e+03   \n",
              "mean   4.080440e+07  3.968124e+06     0.561303  1.743980e+08  5.174889e+08   \n",
              "std    1.014036e+08  2.484605e+07     0.482520  1.182345e+09  4.573916e+09   \n",
              "min    0.000000e+00  0.000000e+00     0.000000  0.000000e+00  0.000000e+00   \n",
              "25%    5.000000e+06  0.000000e+00     0.243275  3.487119e+04  4.647445e+05   \n",
              "50%    1.500000e+07  0.000000e+00     0.541050  8.809043e+05  4.032236e+06   \n",
              "75%    3.000000e+07  1.116965e+06     0.837175  1.101653e+07  4.211323e+07   \n",
              "max    2.000000e+09  6.532955e+08     9.999900  2.244097e+10  1.637660e+11   \n",
              "\n",
              "              TIM01         TIM02         TIM03         TIM04         TIM05  \\\n",
              "count  2.000000e+03  2.000000e+03  2.000000e+03  2.000000e+03  2.000000e+03   \n",
              "mean   1.885628e+07  1.819753e+07  1.913632e+07  1.527425e+07  1.636649e+07   \n",
              "std    5.300998e+07  5.634754e+07  5.544753e+07  5.334624e+07  6.144181e+07   \n",
              "min    0.000000e+00  0.000000e+00  0.000000e+00  0.000000e+00  0.000000e+00   \n",
              "25%    2.373632e+06  2.437284e+06  2.564275e+06  1.455400e+06  1.587523e+06   \n",
              "50%    6.511755e+06  6.106683e+06  6.309698e+06  4.115158e+06  4.332980e+06   \n",
              "75%    1.644773e+07  1.546609e+07  1.517905e+07  1.121057e+07  1.101506e+07   \n",
              "max    9.212379e+08  1.093004e+09  9.806659e+08  1.305511e+09  1.337494e+09   \n",
              "\n",
              "              TIM06        CAT02        CAT03        label  \n",
              "count  2.000000e+03  2000.000000  2000.000000  2000.000000  \n",
              "mean   1.407412e+07     6.257000    11.935000     0.500000  \n",
              "std    4.822217e+07     2.548175     3.592385     0.500125  \n",
              "min    0.000000e+00     1.000000     1.000000     0.000000  \n",
              "25%    1.011020e+06     4.000000     9.000000     0.000000  \n",
              "50%    3.446698e+06     7.000000    13.000000     0.500000  \n",
              "75%    9.697229e+06     8.000000    15.000000     1.000000  \n",
              "max    8.065470e+08     9.000000    20.000000     1.000000  "
            ],
            "text/html": [
              "\n",
              "  <div id=\"df-367b1860-5d1a-48b7-ba67-c96682f624b0\">\n",
              "    <div class=\"colab-df-container\">\n",
              "      <div>\n",
              "<style scoped>\n",
              "    .dataframe tbody tr th:only-of-type {\n",
              "        vertical-align: middle;\n",
              "    }\n",
              "\n",
              "    .dataframe tbody tr th {\n",
              "        vertical-align: top;\n",
              "    }\n",
              "\n",
              "    .dataframe thead th {\n",
              "        text-align: right;\n",
              "    }\n",
              "</style>\n",
              "<table border=\"1\" class=\"dataframe\">\n",
              "  <thead>\n",
              "    <tr style=\"text-align: right;\">\n",
              "      <th></th>\n",
              "      <th>BIN01</th>\n",
              "      <th>BIN02</th>\n",
              "      <th>BIN03</th>\n",
              "      <th>BIN04</th>\n",
              "      <th>CON02</th>\n",
              "      <th>CON03</th>\n",
              "      <th>CON04</th>\n",
              "      <th>CON07</th>\n",
              "      <th>CON09</th>\n",
              "      <th>CON10</th>\n",
              "      <th>TIM01</th>\n",
              "      <th>TIM02</th>\n",
              "      <th>TIM03</th>\n",
              "      <th>TIM04</th>\n",
              "      <th>TIM05</th>\n",
              "      <th>TIM06</th>\n",
              "      <th>CAT02</th>\n",
              "      <th>CAT03</th>\n",
              "      <th>label</th>\n",
              "    </tr>\n",
              "  </thead>\n",
              "  <tbody>\n",
              "    <tr>\n",
              "      <th>count</th>\n",
              "      <td>2000.000000</td>\n",
              "      <td>2000.000000</td>\n",
              "      <td>2000.000000</td>\n",
              "      <td>2000.000000</td>\n",
              "      <td>2.000000e+03</td>\n",
              "      <td>2.000000e+03</td>\n",
              "      <td>2.000000e+03</td>\n",
              "      <td>2000.000000</td>\n",
              "      <td>2.000000e+03</td>\n",
              "      <td>2.000000e+03</td>\n",
              "      <td>2.000000e+03</td>\n",
              "      <td>2.000000e+03</td>\n",
              "      <td>2.000000e+03</td>\n",
              "      <td>2.000000e+03</td>\n",
              "      <td>2.000000e+03</td>\n",
              "      <td>2.000000e+03</td>\n",
              "      <td>2000.000000</td>\n",
              "      <td>2000.000000</td>\n",
              "      <td>2000.000000</td>\n",
              "    </tr>\n",
              "    <tr>\n",
              "      <th>mean</th>\n",
              "      <td>0.178500</td>\n",
              "      <td>0.442500</td>\n",
              "      <td>0.414000</td>\n",
              "      <td>0.060500</td>\n",
              "      <td>8.723058e+05</td>\n",
              "      <td>4.080440e+07</td>\n",
              "      <td>3.968124e+06</td>\n",
              "      <td>0.561303</td>\n",
              "      <td>1.743980e+08</td>\n",
              "      <td>5.174889e+08</td>\n",
              "      <td>1.885628e+07</td>\n",
              "      <td>1.819753e+07</td>\n",
              "      <td>1.913632e+07</td>\n",
              "      <td>1.527425e+07</td>\n",
              "      <td>1.636649e+07</td>\n",
              "      <td>1.407412e+07</td>\n",
              "      <td>6.257000</td>\n",
              "      <td>11.935000</td>\n",
              "      <td>0.500000</td>\n",
              "    </tr>\n",
              "    <tr>\n",
              "      <th>std</th>\n",
              "      <td>0.383029</td>\n",
              "      <td>0.496807</td>\n",
              "      <td>0.492672</td>\n",
              "      <td>0.238471</td>\n",
              "      <td>3.120369e+06</td>\n",
              "      <td>1.014036e+08</td>\n",
              "      <td>2.484605e+07</td>\n",
              "      <td>0.482520</td>\n",
              "      <td>1.182345e+09</td>\n",
              "      <td>4.573916e+09</td>\n",
              "      <td>5.300998e+07</td>\n",
              "      <td>5.634754e+07</td>\n",
              "      <td>5.544753e+07</td>\n",
              "      <td>5.334624e+07</td>\n",
              "      <td>6.144181e+07</td>\n",
              "      <td>4.822217e+07</td>\n",
              "      <td>2.548175</td>\n",
              "      <td>3.592385</td>\n",
              "      <td>0.500125</td>\n",
              "    </tr>\n",
              "    <tr>\n",
              "      <th>min</th>\n",
              "      <td>0.000000</td>\n",
              "      <td>0.000000</td>\n",
              "      <td>0.000000</td>\n",
              "      <td>0.000000</td>\n",
              "      <td>0.000000e+00</td>\n",
              "      <td>0.000000e+00</td>\n",
              "      <td>0.000000e+00</td>\n",
              "      <td>0.000000</td>\n",
              "      <td>0.000000e+00</td>\n",
              "      <td>0.000000e+00</td>\n",
              "      <td>0.000000e+00</td>\n",
              "      <td>0.000000e+00</td>\n",
              "      <td>0.000000e+00</td>\n",
              "      <td>0.000000e+00</td>\n",
              "      <td>0.000000e+00</td>\n",
              "      <td>0.000000e+00</td>\n",
              "      <td>1.000000</td>\n",
              "      <td>1.000000</td>\n",
              "      <td>0.000000</td>\n",
              "    </tr>\n",
              "    <tr>\n",
              "      <th>25%</th>\n",
              "      <td>0.000000</td>\n",
              "      <td>0.000000</td>\n",
              "      <td>0.000000</td>\n",
              "      <td>0.000000</td>\n",
              "      <td>0.000000e+00</td>\n",
              "      <td>5.000000e+06</td>\n",
              "      <td>0.000000e+00</td>\n",
              "      <td>0.243275</td>\n",
              "      <td>3.487119e+04</td>\n",
              "      <td>4.647445e+05</td>\n",
              "      <td>2.373632e+06</td>\n",
              "      <td>2.437284e+06</td>\n",
              "      <td>2.564275e+06</td>\n",
              "      <td>1.455400e+06</td>\n",
              "      <td>1.587523e+06</td>\n",
              "      <td>1.011020e+06</td>\n",
              "      <td>4.000000</td>\n",
              "      <td>9.000000</td>\n",
              "      <td>0.000000</td>\n",
              "    </tr>\n",
              "    <tr>\n",
              "      <th>50%</th>\n",
              "      <td>0.000000</td>\n",
              "      <td>0.000000</td>\n",
              "      <td>0.000000</td>\n",
              "      <td>0.000000</td>\n",
              "      <td>0.000000e+00</td>\n",
              "      <td>1.500000e+07</td>\n",
              "      <td>0.000000e+00</td>\n",
              "      <td>0.541050</td>\n",
              "      <td>8.809043e+05</td>\n",
              "      <td>4.032236e+06</td>\n",
              "      <td>6.511755e+06</td>\n",
              "      <td>6.106683e+06</td>\n",
              "      <td>6.309698e+06</td>\n",
              "      <td>4.115158e+06</td>\n",
              "      <td>4.332980e+06</td>\n",
              "      <td>3.446698e+06</td>\n",
              "      <td>7.000000</td>\n",
              "      <td>13.000000</td>\n",
              "      <td>0.500000</td>\n",
              "    </tr>\n",
              "    <tr>\n",
              "      <th>75%</th>\n",
              "      <td>0.000000</td>\n",
              "      <td>1.000000</td>\n",
              "      <td>1.000000</td>\n",
              "      <td>0.000000</td>\n",
              "      <td>3.150000e+05</td>\n",
              "      <td>3.000000e+07</td>\n",
              "      <td>1.116965e+06</td>\n",
              "      <td>0.837175</td>\n",
              "      <td>1.101653e+07</td>\n",
              "      <td>4.211323e+07</td>\n",
              "      <td>1.644773e+07</td>\n",
              "      <td>1.546609e+07</td>\n",
              "      <td>1.517905e+07</td>\n",
              "      <td>1.121057e+07</td>\n",
              "      <td>1.101506e+07</td>\n",
              "      <td>9.697229e+06</td>\n",
              "      <td>8.000000</td>\n",
              "      <td>15.000000</td>\n",
              "      <td>1.000000</td>\n",
              "    </tr>\n",
              "    <tr>\n",
              "      <th>max</th>\n",
              "      <td>1.000000</td>\n",
              "      <td>1.000000</td>\n",
              "      <td>1.000000</td>\n",
              "      <td>1.000000</td>\n",
              "      <td>6.388950e+07</td>\n",
              "      <td>2.000000e+09</td>\n",
              "      <td>6.532955e+08</td>\n",
              "      <td>9.999900</td>\n",
              "      <td>2.244097e+10</td>\n",
              "      <td>1.637660e+11</td>\n",
              "      <td>9.212379e+08</td>\n",
              "      <td>1.093004e+09</td>\n",
              "      <td>9.806659e+08</td>\n",
              "      <td>1.305511e+09</td>\n",
              "      <td>1.337494e+09</td>\n",
              "      <td>8.065470e+08</td>\n",
              "      <td>9.000000</td>\n",
              "      <td>20.000000</td>\n",
              "      <td>1.000000</td>\n",
              "    </tr>\n",
              "  </tbody>\n",
              "</table>\n",
              "</div>\n",
              "      <button class=\"colab-df-convert\" onclick=\"convertToInteractive('df-367b1860-5d1a-48b7-ba67-c96682f624b0')\"\n",
              "              title=\"Convert this dataframe to an interactive table.\"\n",
              "              style=\"display:none;\">\n",
              "        \n",
              "  <svg xmlns=\"http://www.w3.org/2000/svg\" height=\"24px\"viewBox=\"0 0 24 24\"\n",
              "       width=\"24px\">\n",
              "    <path d=\"M0 0h24v24H0V0z\" fill=\"none\"/>\n",
              "    <path d=\"M18.56 5.44l.94 2.06.94-2.06 2.06-.94-2.06-.94-.94-2.06-.94 2.06-2.06.94zm-11 1L8.5 8.5l.94-2.06 2.06-.94-2.06-.94L8.5 2.5l-.94 2.06-2.06.94zm10 10l.94 2.06.94-2.06 2.06-.94-2.06-.94-.94-2.06-.94 2.06-2.06.94z\"/><path d=\"M17.41 7.96l-1.37-1.37c-.4-.4-.92-.59-1.43-.59-.52 0-1.04.2-1.43.59L10.3 9.45l-7.72 7.72c-.78.78-.78 2.05 0 2.83L4 21.41c.39.39.9.59 1.41.59.51 0 1.02-.2 1.41-.59l7.78-7.78 2.81-2.81c.8-.78.8-2.07 0-2.86zM5.41 20L4 18.59l7.72-7.72 1.47 1.35L5.41 20z\"/>\n",
              "  </svg>\n",
              "      </button>\n",
              "      \n",
              "  <style>\n",
              "    .colab-df-container {\n",
              "      display:flex;\n",
              "      flex-wrap:wrap;\n",
              "      gap: 12px;\n",
              "    }\n",
              "\n",
              "    .colab-df-convert {\n",
              "      background-color: #E8F0FE;\n",
              "      border: none;\n",
              "      border-radius: 50%;\n",
              "      cursor: pointer;\n",
              "      display: none;\n",
              "      fill: #1967D2;\n",
              "      height: 32px;\n",
              "      padding: 0 0 0 0;\n",
              "      width: 32px;\n",
              "    }\n",
              "\n",
              "    .colab-df-convert:hover {\n",
              "      background-color: #E2EBFA;\n",
              "      box-shadow: 0px 1px 2px rgba(60, 64, 67, 0.3), 0px 1px 3px 1px rgba(60, 64, 67, 0.15);\n",
              "      fill: #174EA6;\n",
              "    }\n",
              "\n",
              "    [theme=dark] .colab-df-convert {\n",
              "      background-color: #3B4455;\n",
              "      fill: #D2E3FC;\n",
              "    }\n",
              "\n",
              "    [theme=dark] .colab-df-convert:hover {\n",
              "      background-color: #434B5C;\n",
              "      box-shadow: 0px 1px 3px 1px rgba(0, 0, 0, 0.15);\n",
              "      filter: drop-shadow(0px 1px 2px rgba(0, 0, 0, 0.3));\n",
              "      fill: #FFFFFF;\n",
              "    }\n",
              "  </style>\n",
              "\n",
              "      <script>\n",
              "        const buttonEl =\n",
              "          document.querySelector('#df-367b1860-5d1a-48b7-ba67-c96682f624b0 button.colab-df-convert');\n",
              "        buttonEl.style.display =\n",
              "          google.colab.kernel.accessAllowed ? 'block' : 'none';\n",
              "\n",
              "        async function convertToInteractive(key) {\n",
              "          const element = document.querySelector('#df-367b1860-5d1a-48b7-ba67-c96682f624b0');\n",
              "          const dataTable =\n",
              "            await google.colab.kernel.invokeFunction('convertToInteractive',\n",
              "                                                     [key], {});\n",
              "          if (!dataTable) return;\n",
              "\n",
              "          const docLinkHtml = 'Like what you see? Visit the ' +\n",
              "            '<a target=\"_blank\" href=https://colab.research.google.com/notebooks/data_table.ipynb>data table notebook</a>'\n",
              "            + ' to learn more about interactive tables.';\n",
              "          element.innerHTML = '';\n",
              "          dataTable['output_type'] = 'display_data';\n",
              "          await google.colab.output.renderOutput(dataTable, element);\n",
              "          const docLink = document.createElement('div');\n",
              "          docLink.innerHTML = docLinkHtml;\n",
              "          element.appendChild(docLink);\n",
              "        }\n",
              "      </script>\n",
              "    </div>\n",
              "  </div>\n",
              "  "
            ]
          },
          "metadata": {},
          "execution_count": 34
        }
      ]
    },
    {
      "cell_type": "code",
      "execution_count": null,
      "metadata": {
        "id": "UGU8hGSAOXOU"
      },
      "outputs": [],
      "source": [
        "# # Soultion\n",
        "# df_train.loc[df_train['CON07'] >= 100, 'CON07'] = 100\n",
        "# df_train.drop('CON08', axis = 1, inplace = True)\n",
        "\n",
        "# df_test.loc[df_test['CON07'] >= 100, 'CON07'] = 100\n",
        "# df_test.drop('CON08', axis = 1, inplace = True)\n",
        "\n",
        "# df_train.drop('CON01', axis = 1, inplace = True)\n",
        "# df_test.drop('CON01', axis = 1, inplace = True)\n",
        "\n",
        "# df_train.drop('CON05', axis = 1, inplace = True)\n",
        "# df_test.drop('CON05', axis = 1, inplace = True)\n",
        "\n",
        "# df_train.drop('CON06', axis = 1, inplace = True)\n",
        "# df_test.drop('CON06', axis = 1, inplace = True)"
      ]
    },
    {
      "cell_type": "markdown",
      "metadata": {
        "id": "YlNYZdhwOXOU"
      },
      "source": [
        "* 나머지 변수들은 값의 범위가 0 ~ e11까지 매우 광범위하다.\n",
        "* 분석의 편의를 위해 로그스케일로 치환해보자"
      ]
    },
    {
      "cell_type": "code",
      "execution_count": null,
      "metadata": {
        "id": "KdoGBe3dOXOU"
      },
      "outputs": [],
      "source": [
        "col_numeric2 = ['CON02', 'CON03', 'CON04', 'CON09', 'CON10', 'TIM01', 'TIM02', 'TIM03', 'TIM04', 'TIM05', 'TIM06']\n"
      ]
    },
    {
      "cell_type": "code",
      "execution_count": null,
      "metadata": {
        "id": "1rHO3kpNOXOU"
      },
      "outputs": [],
      "source": [
        "df_train[col_numeric2] = np.log10(df_train[col_numeric2] + 1)\n",
        "df_test[col_numeric2] = np.log10(df_test[col_numeric2] + 1)"
      ]
    },
    {
      "cell_type": "code",
      "execution_count": null,
      "metadata": {
        "id": "UaXcj2GyOXOV"
      },
      "outputs": [],
      "source": [
        "num_train = df_train[col_numeric2]\n",
        "num_test = df_test[col_numeric2]"
      ]
    },
    {
      "cell_type": "code",
      "execution_count": null,
      "metadata": {
        "scrolled": false,
        "id": "SckEXlDEOXOV",
        "outputId": "52ea2bca-0c99-4799-fe5d-76324fde7771",
        "colab": {
          "base_uri": "https://localhost:8080/",
          "height": 364
        }
      },
      "outputs": [
        {
          "output_type": "execute_result",
          "data": {
            "text/plain": [
              "             CON02        CON03        CON04        CON09        CON10  \\\n",
              "count  2000.000000  2000.000000  2000.000000  2000.000000  2000.000000   \n",
              "mean      2.339712     7.074157     2.217528     5.537462     6.339930   \n",
              "std       2.880443     1.075022     3.091291     2.289380     2.088105   \n",
              "min       0.000000     0.000000     0.000000     0.000000     0.000000   \n",
              "25%       0.000000     6.698970     0.000000     4.542479     5.667215   \n",
              "50%       0.000000     7.176091     0.000000     5.944929     6.605546   \n",
              "75%       5.498151     7.477121     6.048030     7.042042     7.624417   \n",
              "max       7.805429     9.301030     8.815110    10.351042    11.214224   \n",
              "\n",
              "             TIM01        TIM02        TIM03        TIM04        TIM05  \\\n",
              "count  2000.000000  2000.000000  2000.000000  2000.000000  2000.000000   \n",
              "mean      6.659053     6.684766     6.750901     6.314750     6.373250   \n",
              "std       1.199190     1.054444     0.811893     1.585061     1.490626   \n",
              "min       0.000000     0.000000     0.000000     0.000000     0.000000   \n",
              "25%       6.375414     6.386906     6.408965     6.162983     6.200720   \n",
              "50%       6.813694     6.785805     6.800007     6.614387     6.636787   \n",
              "75%       7.216106     7.189380     7.181244     7.049628     7.041987   \n",
              "max       8.964372     9.038622     8.991521     9.115781     9.126292   \n",
              "\n",
              "             TIM06  \n",
              "count  2000.000000  \n",
              "mean      6.094596  \n",
              "std       1.815611  \n",
              "min       0.000000  \n",
              "25%       6.004760  \n",
              "50%       6.537403  \n",
              "75%       6.986648  \n",
              "max       8.906630  "
            ],
            "text/html": [
              "\n",
              "  <div id=\"df-02cb99be-5a91-4fa2-9593-3057e298fefb\">\n",
              "    <div class=\"colab-df-container\">\n",
              "      <div>\n",
              "<style scoped>\n",
              "    .dataframe tbody tr th:only-of-type {\n",
              "        vertical-align: middle;\n",
              "    }\n",
              "\n",
              "    .dataframe tbody tr th {\n",
              "        vertical-align: top;\n",
              "    }\n",
              "\n",
              "    .dataframe thead th {\n",
              "        text-align: right;\n",
              "    }\n",
              "</style>\n",
              "<table border=\"1\" class=\"dataframe\">\n",
              "  <thead>\n",
              "    <tr style=\"text-align: right;\">\n",
              "      <th></th>\n",
              "      <th>CON02</th>\n",
              "      <th>CON03</th>\n",
              "      <th>CON04</th>\n",
              "      <th>CON09</th>\n",
              "      <th>CON10</th>\n",
              "      <th>TIM01</th>\n",
              "      <th>TIM02</th>\n",
              "      <th>TIM03</th>\n",
              "      <th>TIM04</th>\n",
              "      <th>TIM05</th>\n",
              "      <th>TIM06</th>\n",
              "    </tr>\n",
              "  </thead>\n",
              "  <tbody>\n",
              "    <tr>\n",
              "      <th>count</th>\n",
              "      <td>2000.000000</td>\n",
              "      <td>2000.000000</td>\n",
              "      <td>2000.000000</td>\n",
              "      <td>2000.000000</td>\n",
              "      <td>2000.000000</td>\n",
              "      <td>2000.000000</td>\n",
              "      <td>2000.000000</td>\n",
              "      <td>2000.000000</td>\n",
              "      <td>2000.000000</td>\n",
              "      <td>2000.000000</td>\n",
              "      <td>2000.000000</td>\n",
              "    </tr>\n",
              "    <tr>\n",
              "      <th>mean</th>\n",
              "      <td>2.339712</td>\n",
              "      <td>7.074157</td>\n",
              "      <td>2.217528</td>\n",
              "      <td>5.537462</td>\n",
              "      <td>6.339930</td>\n",
              "      <td>6.659053</td>\n",
              "      <td>6.684766</td>\n",
              "      <td>6.750901</td>\n",
              "      <td>6.314750</td>\n",
              "      <td>6.373250</td>\n",
              "      <td>6.094596</td>\n",
              "    </tr>\n",
              "    <tr>\n",
              "      <th>std</th>\n",
              "      <td>2.880443</td>\n",
              "      <td>1.075022</td>\n",
              "      <td>3.091291</td>\n",
              "      <td>2.289380</td>\n",
              "      <td>2.088105</td>\n",
              "      <td>1.199190</td>\n",
              "      <td>1.054444</td>\n",
              "      <td>0.811893</td>\n",
              "      <td>1.585061</td>\n",
              "      <td>1.490626</td>\n",
              "      <td>1.815611</td>\n",
              "    </tr>\n",
              "    <tr>\n",
              "      <th>min</th>\n",
              "      <td>0.000000</td>\n",
              "      <td>0.000000</td>\n",
              "      <td>0.000000</td>\n",
              "      <td>0.000000</td>\n",
              "      <td>0.000000</td>\n",
              "      <td>0.000000</td>\n",
              "      <td>0.000000</td>\n",
              "      <td>0.000000</td>\n",
              "      <td>0.000000</td>\n",
              "      <td>0.000000</td>\n",
              "      <td>0.000000</td>\n",
              "    </tr>\n",
              "    <tr>\n",
              "      <th>25%</th>\n",
              "      <td>0.000000</td>\n",
              "      <td>6.698970</td>\n",
              "      <td>0.000000</td>\n",
              "      <td>4.542479</td>\n",
              "      <td>5.667215</td>\n",
              "      <td>6.375414</td>\n",
              "      <td>6.386906</td>\n",
              "      <td>6.408965</td>\n",
              "      <td>6.162983</td>\n",
              "      <td>6.200720</td>\n",
              "      <td>6.004760</td>\n",
              "    </tr>\n",
              "    <tr>\n",
              "      <th>50%</th>\n",
              "      <td>0.000000</td>\n",
              "      <td>7.176091</td>\n",
              "      <td>0.000000</td>\n",
              "      <td>5.944929</td>\n",
              "      <td>6.605546</td>\n",
              "      <td>6.813694</td>\n",
              "      <td>6.785805</td>\n",
              "      <td>6.800007</td>\n",
              "      <td>6.614387</td>\n",
              "      <td>6.636787</td>\n",
              "      <td>6.537403</td>\n",
              "    </tr>\n",
              "    <tr>\n",
              "      <th>75%</th>\n",
              "      <td>5.498151</td>\n",
              "      <td>7.477121</td>\n",
              "      <td>6.048030</td>\n",
              "      <td>7.042042</td>\n",
              "      <td>7.624417</td>\n",
              "      <td>7.216106</td>\n",
              "      <td>7.189380</td>\n",
              "      <td>7.181244</td>\n",
              "      <td>7.049628</td>\n",
              "      <td>7.041987</td>\n",
              "      <td>6.986648</td>\n",
              "    </tr>\n",
              "    <tr>\n",
              "      <th>max</th>\n",
              "      <td>7.805429</td>\n",
              "      <td>9.301030</td>\n",
              "      <td>8.815110</td>\n",
              "      <td>10.351042</td>\n",
              "      <td>11.214224</td>\n",
              "      <td>8.964372</td>\n",
              "      <td>9.038622</td>\n",
              "      <td>8.991521</td>\n",
              "      <td>9.115781</td>\n",
              "      <td>9.126292</td>\n",
              "      <td>8.906630</td>\n",
              "    </tr>\n",
              "  </tbody>\n",
              "</table>\n",
              "</div>\n",
              "      <button class=\"colab-df-convert\" onclick=\"convertToInteractive('df-02cb99be-5a91-4fa2-9593-3057e298fefb')\"\n",
              "              title=\"Convert this dataframe to an interactive table.\"\n",
              "              style=\"display:none;\">\n",
              "        \n",
              "  <svg xmlns=\"http://www.w3.org/2000/svg\" height=\"24px\"viewBox=\"0 0 24 24\"\n",
              "       width=\"24px\">\n",
              "    <path d=\"M0 0h24v24H0V0z\" fill=\"none\"/>\n",
              "    <path d=\"M18.56 5.44l.94 2.06.94-2.06 2.06-.94-2.06-.94-.94-2.06-.94 2.06-2.06.94zm-11 1L8.5 8.5l.94-2.06 2.06-.94-2.06-.94L8.5 2.5l-.94 2.06-2.06.94zm10 10l.94 2.06.94-2.06 2.06-.94-2.06-.94-.94-2.06-.94 2.06-2.06.94z\"/><path d=\"M17.41 7.96l-1.37-1.37c-.4-.4-.92-.59-1.43-.59-.52 0-1.04.2-1.43.59L10.3 9.45l-7.72 7.72c-.78.78-.78 2.05 0 2.83L4 21.41c.39.39.9.59 1.41.59.51 0 1.02-.2 1.41-.59l7.78-7.78 2.81-2.81c.8-.78.8-2.07 0-2.86zM5.41 20L4 18.59l7.72-7.72 1.47 1.35L5.41 20z\"/>\n",
              "  </svg>\n",
              "      </button>\n",
              "      \n",
              "  <style>\n",
              "    .colab-df-container {\n",
              "      display:flex;\n",
              "      flex-wrap:wrap;\n",
              "      gap: 12px;\n",
              "    }\n",
              "\n",
              "    .colab-df-convert {\n",
              "      background-color: #E8F0FE;\n",
              "      border: none;\n",
              "      border-radius: 50%;\n",
              "      cursor: pointer;\n",
              "      display: none;\n",
              "      fill: #1967D2;\n",
              "      height: 32px;\n",
              "      padding: 0 0 0 0;\n",
              "      width: 32px;\n",
              "    }\n",
              "\n",
              "    .colab-df-convert:hover {\n",
              "      background-color: #E2EBFA;\n",
              "      box-shadow: 0px 1px 2px rgba(60, 64, 67, 0.3), 0px 1px 3px 1px rgba(60, 64, 67, 0.15);\n",
              "      fill: #174EA6;\n",
              "    }\n",
              "\n",
              "    [theme=dark] .colab-df-convert {\n",
              "      background-color: #3B4455;\n",
              "      fill: #D2E3FC;\n",
              "    }\n",
              "\n",
              "    [theme=dark] .colab-df-convert:hover {\n",
              "      background-color: #434B5C;\n",
              "      box-shadow: 0px 1px 3px 1px rgba(0, 0, 0, 0.15);\n",
              "      filter: drop-shadow(0px 1px 2px rgba(0, 0, 0, 0.3));\n",
              "      fill: #FFFFFF;\n",
              "    }\n",
              "  </style>\n",
              "\n",
              "      <script>\n",
              "        const buttonEl =\n",
              "          document.querySelector('#df-02cb99be-5a91-4fa2-9593-3057e298fefb button.colab-df-convert');\n",
              "        buttonEl.style.display =\n",
              "          google.colab.kernel.accessAllowed ? 'block' : 'none';\n",
              "\n",
              "        async function convertToInteractive(key) {\n",
              "          const element = document.querySelector('#df-02cb99be-5a91-4fa2-9593-3057e298fefb');\n",
              "          const dataTable =\n",
              "            await google.colab.kernel.invokeFunction('convertToInteractive',\n",
              "                                                     [key], {});\n",
              "          if (!dataTable) return;\n",
              "\n",
              "          const docLinkHtml = 'Like what you see? Visit the ' +\n",
              "            '<a target=\"_blank\" href=https://colab.research.google.com/notebooks/data_table.ipynb>data table notebook</a>'\n",
              "            + ' to learn more about interactive tables.';\n",
              "          element.innerHTML = '';\n",
              "          dataTable['output_type'] = 'display_data';\n",
              "          await google.colab.output.renderOutput(dataTable, element);\n",
              "          const docLink = document.createElement('div');\n",
              "          docLink.innerHTML = docLinkHtml;\n",
              "          element.appendChild(docLink);\n",
              "        }\n",
              "      </script>\n",
              "    </div>\n",
              "  </div>\n",
              "  "
            ]
          },
          "metadata": {},
          "execution_count": 39
        }
      ],
      "source": [
        "num_train.describe()"
      ]
    },
    {
      "cell_type": "markdown",
      "metadata": {
        "id": "xVKEfV0AOXOV"
      },
      "source": [
        "* 백분위 분포 및 전체적인 스케일 등이 정리된 느낌이다"
      ]
    },
    {
      "cell_type": "markdown",
      "metadata": {
        "id": "YLT83l3qOXOV"
      },
      "source": [
        "### Correlation Analysis"
      ]
    },
    {
      "cell_type": "code",
      "execution_count": null,
      "metadata": {
        "scrolled": false,
        "id": "FLle_2kMOXOV",
        "outputId": "5b27eb8b-9179-4803-b1fc-62cd85609399",
        "colab": {
          "base_uri": "https://localhost:8080/",
          "height": 433
        }
      },
      "outputs": [
        {
          "output_type": "display_data",
          "data": {
            "text/plain": [
              "<Figure size 1440x864 with 2 Axes>"
            ],
            "image/png": "[encoded data removed]"
          },
          "metadata": {
            "needs_background": "light"
          }
        }
      ],
      "source": [
        "sns.heatmap(df_train.corr(), annot = True, cmap = 'RdYlGn', linewidths = 0.2, vmin = -1, vmax = 1) \n",
        "fig = plt.gcf()\n",
        "fig.set_size_inches(20, 12)\n",
        "plt.yticks(rotation='0')\n",
        "plt.show()"
      ]
    },
    {
      "cell_type": "markdown",
      "metadata": {
        "id": "HFwW1NylOXOV"
      },
      "source": [
        "* CON09, CON10 은 상관도가 0.79로 높다. 변수가 무엇인지 보면 아하~! 할 것이다.\n",
        "* CAT02는 답안지와의 상관도가 0.64로 가장 높다. 실제로 카드사업부에서도 이 지표가 가장 유의하다고 경험적으로 판단하였다."
      ]
    },
    {
      "cell_type": "markdown",
      "metadata": {
        "id": "SbpJu4ypOXOW"
      },
      "source": [
        "# 5. Making Dataset for ML"
      ]
    },
    {
      "cell_type": "code",
      "execution_count": null,
      "metadata": {
        "id": "0UpPGOb9OXOW"
      },
      "outputs": [],
      "source": [
        "# 우선 복제부터 해두고~\n",
        "X_train = df_train.copy()\n",
        "#X_test = df_test.copy()\n",
        "\n",
        "# EDA에서 덕지덕지 생성한 필요없는 칼럼들을 날리자\n",
        "X_train.drop(['CAT02', 'CAT03', 'CAT04', 'CAT04_eng', 'label'], axis = 1, inplace = True)\n",
        "#X_test.drop(['CAT02', 'CAT03', 'CAT04', 'CAT04_eng', 'label'], axis = 1, inplace = True)\n",
        "\n",
        "y_train = df_train['label'].values\n",
        "#y_test = df_test['label'].values\n",
        "\n",
        "# Categorical Feature들을 몽땅 원핫인코딩 \n",
        "X_train_hot = pd.get_dummies(X_train)\n",
        "#X_test_hot = pd.get_dummies(X_test)"
      ]
    },
    {
      "cell_type": "code",
      "execution_count": null,
      "metadata": {
        "scrolled": true,
        "id": "S9BW9FO7OXOW",
        "outputId": "29319656-adaa-4ec5-d738-c59d96cf0529",
        "colab": {
          "base_uri": "https://localhost:8080/",
          "height": 331
        }
      },
      "outputs": [
        {
          "output_type": "execute_result",
          "data": {
            "text/plain": [
              "          BIN01  BIN02  BIN03  BIN04     CON02    CON03     CON04   CON07  \\\n",
              "FK00                                                                        \n",
              "30854746      0      1      1      0  6.366423  6.30103  0.000000  1.1698   \n",
              "25478652      0      0      0      0  6.753583  7.69897  0.000000  0.8404   \n",
              "13433345      0      0      0      0  0.000000  7.60206  0.000000  0.3084   \n",
              "10664978      0      0      0      0  5.352184  8.30103  0.000000  0.2296   \n",
              "33141322      0      1      1      0  0.000000  7.00000  6.273593  0.9999   \n",
              "\n",
              "             CON09     CON10  ...  CAT04_new_abs_good  CAT04_new_rel_bad  \\\n",
              "FK00                          ...                                          \n",
              "30854746  6.555000  6.555000  ...                   0                  1   \n",
              "25478652  7.985560  8.043514  ...                   0                  1   \n",
              "13433345  6.059515  7.717025  ...                   1                  0   \n",
              "10664978  9.207223  9.791882  ...                   1                  0   \n",
              "33141322  6.890179  6.890179  ...                   0                  1   \n",
              "\n",
              "          CAT04_new_rel_good  CAT02_new_abs_bad  CAT02_new_abs_good  \\\n",
              "FK00                                                                  \n",
              "30854746                   0                  1                   0   \n",
              "25478652                   0                  0                   1   \n",
              "13433345                   0                  0                   0   \n",
              "10664978                   0                  0                   1   \n",
              "33141322                   0                  1                   0   \n",
              "\n",
              "          CAT02_new_rel_bad  CAT03_new_abs_bad  CAT03_new_abs_good  \\\n",
              "FK00                                                                 \n",
              "30854746                  0                  1                   0   \n",
              "25478652                  0                  1                   0   \n",
              "13433345                  1                  0                   1   \n",
              "10664978                  0                  0                   1   \n",
              "33141322                  0                  1                   0   \n",
              "\n",
              "          CAT03_new_rel_bad  CAT03_new_rel_good  \n",
              "FK00                                             \n",
              "30854746                  0                   0  \n",
              "25478652                  0                   0  \n",
              "13433345                  0                   0  \n",
              "10664978                  0                   0  \n",
              "33141322                  0                   0  \n",
              "\n",
              "[5 rows x 31 columns]"
            ],
            "text/html": [
              "\n",
              "  <div id=\"df-75098eba-233f-40dd-b038-32109a99ce4a\">\n",
              "    <div class=\"colab-df-container\">\n",
              "      <div>\n",
              "<style scoped>\n",
              "    .dataframe tbody tr th:only-of-type {\n",
              "        vertical-align: middle;\n",
              "    }\n",
              "\n",
              "    .dataframe tbody tr th {\n",
              "        vertical-align: top;\n",
              "    }\n",
              "\n",
              "    .dataframe thead th {\n",
              "        text-align: right;\n",
              "    }\n",
              "</style>\n",
              "<table border=\"1\" class=\"dataframe\">\n",
              "  <thead>\n",
              "    <tr style=\"text-align: right;\">\n",
              "      <th></th>\n",
              "      <th>BIN01</th>\n",
              "      <th>BIN02</th>\n",
              "      <th>BIN03</th>\n",
              "      <th>BIN04</th>\n",
              "      <th>CON02</th>\n",
              "      <th>CON03</th>\n",
              "      <th>CON04</th>\n",
              "      <th>CON07</th>\n",
              "      <th>CON09</th>\n",
              "      <th>CON10</th>\n",
              "      <th>...</th>\n",
              "      <th>CAT04_new_abs_good</th>\n",
              "      <th>CAT04_new_rel_bad</th>\n",
              "      <th>CAT04_new_rel_good</th>\n",
              "      <th>CAT02_new_abs_bad</th>\n",
              "      <th>CAT02_new_abs_good</th>\n",
              "      <th>CAT02_new_rel_bad</th>\n",
              "      <th>CAT03_new_abs_bad</th>\n",
              "      <th>CAT03_new_abs_good</th>\n",
              "      <th>CAT03_new_rel_bad</th>\n",
              "      <th>CAT03_new_rel_good</th>\n",
              "    </tr>\n",
              "    <tr>\n",
              "      <th>FK00</th>\n",
              "      <th></th>\n",
              "      <th></th>\n",
              "      <th></th>\n",
              "      <th></th>\n",
              "      <th></th>\n",
              "      <th></th>\n",
              "      <th></th>\n",
              "      <th></th>\n",
              "      <th></th>\n",
              "      <th></th>\n",
              "      <th></th>\n",
              "      <th></th>\n",
              "      <th></th>\n",
              "      <th></th>\n",
              "      <th></th>\n",
              "      <th></th>\n",
              "      <th></th>\n",
              "      <th></th>\n",
              "      <th></th>\n",
              "      <th></th>\n",
              "      <th></th>\n",
              "    </tr>\n",
              "  </thead>\n",
              "  <tbody>\n",
              "    <tr>\n",
              "      <th>30854746</th>\n",
              "      <td>0</td>\n",
              "      <td>1</td>\n",
              "      <td>1</td>\n",
              "      <td>0</td>\n",
              "      <td>6.366423</td>\n",
              "      <td>6.30103</td>\n",
              "      <td>0.000000</td>\n",
              "      <td>1.1698</td>\n",
              "      <td>6.555000</td>\n",
              "      <td>6.555000</td>\n",
              "      <td>...</td>\n",
              "      <td>0</td>\n",
              "      <td>1</td>\n",
              "      <td>0</td>\n",
              "      <td>1</td>\n",
              "      <td>0</td>\n",
              "      <td>0</td>\n",
              "      <td>1</td>\n",
              "      <td>0</td>\n",
              "      <td>0</td>\n",
              "      <td>0</td>\n",
              "    </tr>\n",
              "    <tr>\n",
              "      <th>25478652</th>\n",
              "      <td>0</td>\n",
              "      <td>0</td>\n",
              "      <td>0</td>\n",
              "      <td>0</td>\n",
              "      <td>6.753583</td>\n",
              "      <td>7.69897</td>\n",
              "      <td>0.000000</td>\n",
              "      <td>0.8404</td>\n",
              "      <td>7.985560</td>\n",
              "      <td>8.043514</td>\n",
              "      <td>...</td>\n",
              "      <td>0</td>\n",
              "      <td>1</td>\n",
              "      <td>0</td>\n",
              "      <td>0</td>\n",
              "      <td>1</td>\n",
              "      <td>0</td>\n",
              "      <td>1</td>\n",
              "      <td>0</td>\n",
              "      <td>0</td>\n",
              "      <td>0</td>\n",
              "    </tr>\n",
              "    <tr>\n",
              "      <th>13433345</th>\n",
              "      <td>0</td>\n",
              "      <td>0</td>\n",
              "      <td>0</td>\n",
              "      <td>0</td>\n",
              "      <td>0.000000</td>\n",
              "      <td>7.60206</td>\n",
              "      <td>0.000000</td>\n",
              "      <td>0.3084</td>\n",
              "      <td>6.059515</td>\n",
              "      <td>7.717025</td>\n",
              "      <td>...</td>\n",
              "      <td>1</td>\n",
              "      <td>0</td>\n",
              "      <td>0</td>\n",
              "      <td>0</td>\n",
              "      <td>0</td>\n",
              "      <td>1</td>\n",
              "      <td>0</td>\n",
              "      <td>1</td>\n",
              "      <td>0</td>\n",
              "      <td>0</td>\n",
              "    </tr>\n",
              "    <tr>\n",
              "      <th>10664978</th>\n",
              "      <td>0</td>\n",
              "      <td>0</td>\n",
              "      <td>0</td>\n",
              "      <td>0</td>\n",
              "      <td>5.352184</td>\n",
              "      <td>8.30103</td>\n",
              "      <td>0.000000</td>\n",
              "      <td>0.2296</td>\n",
              "      <td>9.207223</td>\n",
              "      <td>9.791882</td>\n",
              "      <td>...</td>\n",
              "      <td>1</td>\n",
              "      <td>0</td>\n",
              "      <td>0</td>\n",
              "      <td>0</td>\n",
              "      <td>1</td>\n",
              "      <td>0</td>\n",
              "      <td>0</td>\n",
              "      <td>1</td>\n",
              "      <td>0</td>\n",
              "      <td>0</td>\n",
              "    </tr>\n",
              "    <tr>\n",
              "      <th>33141322</th>\n",
              "      <td>0</td>\n",
              "      <td>1</td>\n",
              "      <td>1</td>\n",
              "      <td>0</td>\n",
              "      <td>0.000000</td>\n",
              "      <td>7.00000</td>\n",
              "      <td>6.273593</td>\n",
              "      <td>0.9999</td>\n",
              "      <td>6.890179</td>\n",
              "      <td>6.890179</td>\n",
              "      <td>...</td>\n",
              "      <td>0</td>\n",
              "      <td>1</td>\n",
              "      <td>0</td>\n",
              "      <td>1</td>\n",
              "      <td>0</td>\n",
              "      <td>0</td>\n",
              "      <td>1</td>\n",
              "      <td>0</td>\n",
              "      <td>0</td>\n",
              "      <td>0</td>\n",
              "    </tr>\n",
              "  </tbody>\n",
              "</table>\n",
              "<p>5 rows × 31 columns</p>\n",
              "</div>\n",
              "      <button class=\"colab-df-convert\" onclick=\"convertToInteractive('df-75098eba-233f-40dd-b038-32109a99ce4a')\"\n",
              "              title=\"Convert this dataframe to an interactive table.\"\n",
              "              style=\"display:none;\">\n",
              "        \n",
              "  <svg xmlns=\"http://www.w3.org/2000/svg\" height=\"24px\"viewBox=\"0 0 24 24\"\n",
              "       width=\"24px\">\n",
              "    <path d=\"M0 0h24v24H0V0z\" fill=\"none\"/>\n",
              "    <path d=\"M18.56 5.44l.94 2.06.94-2.06 2.06-.94-2.06-.94-.94-2.06-.94 2.06-2.06.94zm-11 1L8.5 8.5l.94-2.06 2.06-.94-2.06-.94L8.5 2.5l-.94 2.06-2.06.94zm10 10l.94 2.06.94-2.06 2.06-.94-2.06-.94-.94-2.06-.94 2.06-2.06.94z\"/><path d=\"M17.41 7.96l-1.37-1.37c-.4-.4-.92-.59-1.43-.59-.52 0-1.04.2-1.43.59L10.3 9.45l-7.72 7.72c-.78.78-.78 2.05 0 2.83L4 21.41c.39.39.9.59 1.41.59.51 0 1.02-.2 1.41-.59l7.78-7.78 2.81-2.81c.8-.78.8-2.07 0-2.86zM5.41 20L4 18.59l7.72-7.72 1.47 1.35L5.41 20z\"/>\n",
              "  </svg>\n",
              "      </button>\n",
              "      \n",
              "  <style>\n",
              "    .colab-df-container {\n",
              "      display:flex;\n",
              "      flex-wrap:wrap;\n",
              "      gap: 12px;\n",
              "    }\n",
              "\n",
              "    .colab-df-convert {\n",
              "      background-color: #E8F0FE;\n",
              "      border: none;\n",
              "      border-radius: 50%;\n",
              "      cursor: pointer;\n",
              "      display: none;\n",
              "      fill: #1967D2;\n",
              "      height: 32px;\n",
              "      padding: 0 0 0 0;\n",
              "      width: 32px;\n",
              "    }\n",
              "\n",
              "    .colab-df-convert:hover {\n",
              "      background-color: #E2EBFA;\n",
              "      box-shadow: 0px 1px 2px rgba(60, 64, 67, 0.3), 0px 1px 3px 1px rgba(60, 64, 67, 0.15);\n",
              "      fill: #174EA6;\n",
              "    }\n",
              "\n",
              "    [theme=dark] .colab-df-convert {\n",
              "      background-color: #3B4455;\n",
              "      fill: #D2E3FC;\n",
              "    }\n",
              "\n",
              "    [theme=dark] .colab-df-convert:hover {\n",
              "      background-color: #434B5C;\n",
              "      box-shadow: 0px 1px 3px 1px rgba(0, 0, 0, 0.15);\n",
              "      filter: drop-shadow(0px 1px 2px rgba(0, 0, 0, 0.3));\n",
              "      fill: #FFFFFF;\n",
              "    }\n",
              "  </style>\n",
              "\n",
              "      <script>\n",
              "        const buttonEl =\n",
              "          document.querySelector('#df-75098eba-233f-40dd-b038-32109a99ce4a button.colab-df-convert');\n",
              "        buttonEl.style.display =\n",
              "          google.colab.kernel.accessAllowed ? 'block' : 'none';\n",
              "\n",
              "        async function convertToInteractive(key) {\n",
              "          const element = document.querySelector('#df-75098eba-233f-40dd-b038-32109a99ce4a');\n",
              "          const dataTable =\n",
              "            await google.colab.kernel.invokeFunction('convertToInteractive',\n",
              "                                                     [key], {});\n",
              "          if (!dataTable) return;\n",
              "\n",
              "          const docLinkHtml = 'Like what you see? Visit the ' +\n",
              "            '<a target=\"_blank\" href=https://colab.research.google.com/notebooks/data_table.ipynb>data table notebook</a>'\n",
              "            + ' to learn more about interactive tables.';\n",
              "          element.innerHTML = '';\n",
              "          dataTable['output_type'] = 'display_data';\n",
              "          await google.colab.output.renderOutput(dataTable, element);\n",
              "          const docLink = document.createElement('div');\n",
              "          docLink.innerHTML = docLinkHtml;\n",
              "          element.appendChild(docLink);\n",
              "        }\n",
              "      </script>\n",
              "    </div>\n",
              "  </div>\n",
              "  "
            ]
          },
          "metadata": {},
          "execution_count": 42
        }
      ],
      "source": [
        "X_train_hot.head()"
      ]
    },
    {
      "cell_type": "code",
      "execution_count": null,
      "metadata": {
        "id": "Vakr_4dnOXOW",
        "outputId": "6b944c65-5337-47ec-800f-506962991dec",
        "colab": {
          "base_uri": "https://localhost:8080/"
        }
      },
      "outputs": [
        {
          "output_type": "execute_result",
          "data": {
            "text/plain": [
              "Index(['BIN01', 'BIN02', 'BIN03', 'BIN04', 'CON02', 'CON03', 'CON04', 'CON07',\n",
              "       'CON09', 'CON10', 'TIM01', 'TIM02', 'TIM03', 'TIM04', 'TIM05', 'TIM06',\n",
              "       'CAT01_1', 'CAT01_2', 'CAT01_3', 'CAT01_4', 'CAT01_5',\n",
              "       'CAT04_new_abs_good', 'CAT04_new_rel_bad', 'CAT04_new_rel_good',\n",
              "       'CAT02_new_abs_bad', 'CAT02_new_abs_good', 'CAT02_new_rel_bad',\n",
              "       'CAT03_new_abs_bad', 'CAT03_new_abs_good', 'CAT03_new_rel_bad',\n",
              "       'CAT03_new_rel_good'],\n",
              "      dtype='object')"
            ]
          },
          "metadata": {},
          "execution_count": 43
        }
      ],
      "source": [
        "X_train_hot.columns"
      ]
    },
    {
      "cell_type": "code",
      "execution_count": null,
      "metadata": {
        "scrolled": true,
        "id": "yvzCFim8OXOX"
      },
      "outputs": [],
      "source": [
        "#X_test_hot.columns"
      ]
    },
    {
      "cell_type": "markdown",
      "metadata": {
        "id": "_QZmhYwyOXOX"
      },
      "source": [
        "# 6. Machine Learning"
      ]
    },
    {
      "cell_type": "code",
      "execution_count": null,
      "metadata": {
        "id": "c6B-0z8COXOX"
      },
      "outputs": [],
      "source": [
        "from sklearn.model_selection import train_test_split #for split the data\n",
        "from sklearn.metrics import accuracy_score  #for accuracy_score\n",
        "from sklearn.model_selection import KFold #for K-fold cross validation\n",
        "from sklearn.model_selection import cross_val_score #score evaluation\n",
        "from sklearn.model_selection import cross_val_predict #prediction\n",
        "from sklearn.metrics import confusion_matrix #for confusion matrix"
      ]
    },
    {
      "cell_type": "markdown",
      "metadata": {
        "id": "HI-draCVOXOX"
      },
      "source": [
        "## Random Forest\n",
        "* Scaling 이 필요없는 Tree형 구조를 먼저 써보는게 좋다\n",
        "* 옵션이 매우 많지만 대표적인 두가지로 그리드써칭을 통해 짱먹는 파라미터를 찾아보자"
      ]
    },
    {
      "cell_type": "code",
      "execution_count": null,
      "metadata": {
        "scrolled": true,
        "id": "ChtcfRKROXOX",
        "outputId": "7863fc82-64b9-4e33-8c95-d7d4cb48a2b5",
        "colab": {
          "base_uri": "https://localhost:8080/"
        }
      },
      "outputs": [
        {
          "output_type": "stream",
          "name": "stdout",
          "text": [
            "Fitting 10 folds for each of 90 candidates, totalling 900 fits\n",
            "0.915\n"
          ]
        },
        {
          "output_type": "execute_result",
          "data": {
            "text/plain": [
              "RandomForestClassifier(max_depth=14)"
            ]
          },
          "metadata": {},
          "execution_count": 46
        }
      ],
      "source": [
        "from sklearn.ensemble import RandomForestClassifier\n",
        "from sklearn.model_selection import GridSearchCV\n",
        "\n",
        "# Random Forest Classifier Parameters tunning \n",
        "model_tmp = RandomForestClassifier()\n",
        "\n",
        "n_estim = range(100, 1000, 100)\n",
        "max_dep = range(5, 15, 1)\n",
        "\n",
        "## Search grid for optimal parameters\n",
        "param_grid = {\"n_estimators\" : n_estim,\n",
        "             'max_depth' : max_dep}\n",
        "model_grid = GridSearchCV(model_tmp, param_grid = param_grid, cv = 10, \n",
        "                        scoring = \"accuracy\", n_jobs = 4, verbose = 1)\n",
        "\n",
        "model_grid.fit(X_train_hot, y_train)\n",
        "# Best score\n",
        "print(model_grid.best_score_)\n",
        "#best estimator\n",
        "model_grid.best_estimator_"
      ]
    },
    {
      "cell_type": "markdown",
      "metadata": {
        "id": "684UI0HjOXOY"
      },
      "source": [
        "위에서 뱉어준 best_estimator를 고대로 아래에 복제하자"
      ]
    },
    {
      "cell_type": "code",
      "execution_count": null,
      "metadata": {
        "scrolled": false,
        "id": "yoiPrMP6OXOY",
        "colab": {
          "base_uri": "https://localhost:8080/"
        },
        "outputId": "2899dd85-4c43-4ecd-ba57-ab8d6c428b4d"
      },
      "outputs": [
        {
          "output_type": "execute_result",
          "data": {
            "text/plain": [
              "RandomForestClassifier(max_depth=14)"
            ]
          },
          "metadata": {},
          "execution_count": 47
        }
      ],
      "source": [
        "model_rf = model_grid.best_estimator_\n",
        "# model_rf = RandomForestClassifier(bootstrap=True, class_weight=None, criterion='gini',\n",
        "#             max_depth=13, max_features='auto', max_leaf_nodes=None,\n",
        "#             min_impurity_decrease=0.0, min_impurity_split=None,\n",
        "#             min_samples_leaf=1, min_samples_split=2,\n",
        "#             min_weight_fraction_leaf=0.0, n_estimators=100, n_jobs=1,\n",
        "#             oob_score=False, random_state=None, verbose=0,\n",
        "#             warm_start=False)\n",
        "\n",
        "# 모든 train셋을 다 써서 학습시키고\n",
        "model_rf.fit(X_train_hot,y_train)\n",
        "\n",
        "# 드디어 test셋을 넣어서 답안지를 작성하자\n",
        "#prediction_rf = model_rf.predict(X_test_hot)"
      ]
    },
    {
      "cell_type": "code",
      "execution_count": null,
      "metadata": {
        "id": "9ym5A1SCOXOY"
      },
      "outputs": [],
      "source": [
        "#submit = pd.read_csv('submission.csv', index_col = 'EDPS_CSN')\n",
        "#submit[\"predict\"] = prediction_rf\n",
        "#submit.to_csv(\"gyuchan_best2.csv\")"
      ]
    },
    {
      "cell_type": "code",
      "execution_count": null,
      "metadata": {
        "id": "CCc9IGIWOXOY"
      },
      "outputs": [],
      "source": [
        "# 점수가 잘 나왔으면 모델을 저장해두자\n",
        "#model.save('model_rf.h5')"
      ]
    },
    {
      "cell_type": "markdown",
      "metadata": {
        "id": "jmATCw8NOXOY"
      },
      "source": [
        "### 같은 방식으로 sklearn 패키지에서 제공하는 다양한 알고리즘을 학습시켜보자"
      ]
    },
    {
      "cell_type": "code",
      "execution_count": null,
      "metadata": {
        "id": "UM6WMTQFOXOY"
      },
      "outputs": [],
      "source": [
        "# 여기는 스스로 해보는걸로.."
      ]
    },
    {
      "cell_type": "code",
      "execution_count": null,
      "metadata": {
        "id": "ye07FehTOXOZ"
      },
      "outputs": [],
      "source": []
    },
    {
      "cell_type": "markdown",
      "metadata": {
        "id": "D657kKq3OXOZ"
      },
      "source": [
        "## DNN"
      ]
    },
    {
      "cell_type": "markdown",
      "metadata": {
        "id": "j6srU87lOXOZ"
      },
      "source": [
        "### Preprocessing for numeric features (Scaling)"
      ]
    },
    {
      "cell_type": "code",
      "execution_count": null,
      "metadata": {
        "id": "OUAUONoxOXOZ"
      },
      "outputs": [],
      "source": [
        "from sklearn.preprocessing import StandardScaler\n",
        "\n",
        "scaler = StandardScaler().fit(X_train[col_numeric2])"
      ]
    },
    {
      "cell_type": "code",
      "execution_count": null,
      "metadata": {
        "scrolled": false,
        "id": "0mmrEzw2OXOZ"
      },
      "outputs": [],
      "source": [
        "X_train_scaled = pd.DataFrame(scaler.transform(X_train[col_numeric2]), columns = col_numeric2)\n",
        "#X_test_scaled = pd.DataFrame(scaler.transform(X_test[col_numeric2]), columns = col_numeric2)"
      ]
    },
    {
      "cell_type": "code",
      "execution_count": null,
      "metadata": {
        "id": "RvY7zYfOOXOZ"
      },
      "outputs": [],
      "source": [
        "X_train[col_numeric2] = X_train_scaled\n",
        "#X_test[col_numeric2] = X_test_scaled"
      ]
    },
    {
      "cell_type": "code",
      "source": [
        "!pip install Adam"
      ],
      "metadata": {
        "colab": {
          "base_uri": "https://localhost:8080/"
        },
        "id": "gAMNa6zAJ2Xh",
        "outputId": "090c9d1f-0c02-42f7-ac85-7618cf329590"
      },
      "execution_count": null,
      "outputs": [
        {
          "output_type": "stream",
          "name": "stdout",
          "text": [
            "Looking in indexes: https://pypi.org/simple, https://us-python.pkg.dev/colab-wheels/public/simple/\n",
            "Requirement already satisfied: Adam in /usr/local/lib/python3.7/dist-packages (0.0.0.dev0)\n"
          ]
        }
      ]
    },
    {
      "cell_type": "code",
      "source": [
        "@keras_export('keras.optimizers.serialize')\n",
        "def serialize(optimizer):\n",
        "  \"\"\"Serialize the optimizer configuration to JSON compatible python dict.\n",
        "\n",
        "  The configuration can be used for persistence and reconstruct the `Optimizer`\n",
        "  instance again.\n",
        "\n",
        "  >>> tf.keras.optimizers.serialize(tf.keras.optimizers.SGD())\n",
        "  {'class_name': 'SGD', 'config': {'name': 'SGD', 'learning_rate': 0.01,\n",
        "                                   'decay': 0.0, 'momentum': 0.0,\n",
        "                                   'nesterov': False}}\n",
        "\n",
        "  Args:\n",
        "    optimizer: An `Optimizer` instance to serialize.\n",
        "\n",
        "  Returns:\n",
        "    Python dict which contains the configuration of the input optimizer.\n",
        "  \"\"\"\n",
        "  return serialize_keras_object(optimizer)\n",
        "\n",
        "\n",
        "@keras_export('keras.optimizers.deserialize')\n",
        "def deserialize(config, custom_objects=None):\n",
        "  \"\"\"Inverse of the `serialize` function.\n",
        "\n",
        "  Args:\n",
        "      config: Optimizer configuration dictionary.\n",
        "      custom_objects: Optional dictionary mapping names (strings) to custom\n",
        "        objects (classes and functions) to be considered during deserialization.\n",
        "\n",
        "  Returns:\n",
        "      A Keras Optimizer instance.\n",
        "  \"\"\"\n",
        "  # loss_scale_optimizer has a direct dependency of optimizer, import here\n",
        "  # rather than top to avoid the cyclic dependency.\n",
        "  from keras.mixed_precision import loss_scale_optimizer  # pylint: disable=g-import-not-at-top\n",
        "  all_classes = {\n",
        "      'adadelta': adadelta_v2.Adadelta,\n",
        "      'adagrad': adagrad_v2.Adagrad,\n",
        "      'adam': adam_v2.Adam,\n",
        "      'adamax': adamax_v2.Adamax,\n",
        "      'experimentaladadelta': adadelta_experimental.Adadelta,\n",
        "      'experimentaladagrad': adagrad_experimental.Adagrad,\n",
        "      'experimentaladam': adam_experimental.Adam,\n",
        "      'experimentalsgd': sgd_experimental.SGD,\n",
        "      'nadam': nadam_v2.Nadam,\n",
        "      'rmsprop': rmsprop_v2.RMSprop,\n",
        "      'sgd': gradient_descent_v2.SGD,\n",
        "      'ftrl': ftrl.Ftrl,\n",
        "      'lossscaleoptimizer': loss_scale_optimizer.LossScaleOptimizer,\n",
        "      'lossscaleoptimizerv3': loss_scale_optimizer.LossScaleOptimizerV3,\n",
        "      # LossScaleOptimizerV1 deserializes into LossScaleOptimizer, as\n",
        "      # LossScaleOptimizerV1 will be removed soon but deserializing it will\n",
        "      # still be supported.\n",
        "      'lossscaleoptimizerv1': loss_scale_optimizer.LossScaleOptimizer,\n",
        "  }\n",
        "\n",
        "  # Make deserialization case-insensitive for built-in optimizers.\n",
        "  if config['class_name'].lower() in all_classes:\n",
        "    config['class_name'] = config['class_name'].lower()\n",
        "  return deserialize_keras_object(\n",
        "      config,\n",
        "      module_objects=all_classes,\n",
        "      custom_objects=custom_objects,\n",
        "      printable_module_name='optimizer')\n",
        "\n",
        "\n",
        "@keras_export('keras.optimizers.get')\n",
        "def get(identifier):\n",
        "  \"\"\"Retrieves a Keras Optimizer instance.\n",
        "\n",
        "  Args:\n",
        "      identifier: Optimizer identifier, one of\n",
        "          - String: name of an optimizer\n",
        "          - Dictionary: configuration dictionary. - Keras Optimizer instance (it\n",
        "            will be returned unchanged). - TensorFlow Optimizer instance (it\n",
        "            will be wrapped as a Keras Optimizer).\n",
        "\n",
        "  Returns:\n",
        "      A Keras Optimizer instance.\n",
        "\n",
        "  Raises:\n",
        "      ValueError: If `identifier` cannot be interpreted.\n",
        "  \"\"\"\n",
        "  if isinstance(\n",
        "      identifier,\n",
        "      (Optimizer, optimizer_v2.OptimizerV2, optimizer_experimental.Optimizer)):\n",
        "    return identifier\n",
        "  # Wrap legacy TF optimizer instances\n",
        "  elif isinstance(identifier, tf.compat.v1.train.Optimizer):\n",
        "    opt = TFOptimizer(identifier)\n",
        "    backend.track_tf_optimizer(opt)\n",
        "    return opt\n",
        "  elif isinstance(identifier, dict):\n",
        "    return deserialize(identifier)\n",
        "  elif isinstance(identifier, str):\n",
        "    config = {'class_name': str(identifier), 'config': {}}\n",
        "    return deserialize(config)\n",
        "  else:\n",
        "    raise ValueError(\n",
        "        'Could not interpret optimizer identifier: {}'.format(identifier))"
      ],
      "metadata": {
        "colab": {
          "base_uri": "https://localhost:8080/",
          "height": 137
        },
        "id": "9lnJsFuvQaz6",
        "outputId": "81d7bcf4-c04e-4c43-96bf-aee68e50b69d"
      },
      "execution_count": null,
      "outputs": [
        {
          "output_type": "error",
          "ename": "SyntaxError",
          "evalue": "ignored",
          "traceback": [
            "\u001b[0;36m  File \u001b[0;32m\"<ipython-input-1-f313095a7426>\"\u001b[0;36m, line \u001b[0;32m1\u001b[0m\n\u001b[0;31m    usr(/local/lib/python3.7/dist-packages/keras)\u001b[0m\n\u001b[0m        ^\u001b[0m\n\u001b[0;31mSyntaxError\u001b[0m\u001b[0;31m:\u001b[0m invalid syntax\n"
          ]
        }
      ]
    },
    {
      "cell_type": "code",
      "execution_count": null,
      "metadata": {
        "id": "qhfeROdhOXOa",
        "colab": {
          "base_uri": "https://localhost:8080/",
          "height": 374
        },
        "outputId": "6b94e444-b592-487a-c019-91639aad19c9"
      },
      "outputs": [
        {
          "output_type": "error",
          "ename": "ImportError",
          "evalue": "ignored",
          "traceback": [
            "\u001b[0;31m---------------------------------------------------------------------------\u001b[0m",
            "\u001b[0;31mImportError\u001b[0m                               Traceback (most recent call last)",
            "\u001b[0;32m<ipython-input-9-47f44a6a744f>\u001b[0m in \u001b[0;36m<module>\u001b[0;34m()\u001b[0m\n\u001b[1;32m      6\u001b[0m \u001b[0;32mfrom\u001b[0m \u001b[0mkeras\u001b[0m\u001b[0;34m.\u001b[0m\u001b[0moptimizers\u001b[0m \u001b[0;32mimport\u001b[0m \u001b[0madam_v2\u001b[0m\u001b[0;34m,\u001b[0m \u001b[0msgd_experimental\u001b[0m \u001b[0;31m# SGD\u001b[0m\u001b[0;34m\u001b[0m\u001b[0;34m\u001b[0m\u001b[0m\n\u001b[1;32m      7\u001b[0m \u001b[0;31m#from keras.regularizers import l2\u001b[0m\u001b[0;34m\u001b[0m\u001b[0;34m\u001b[0m\u001b[0;34m\u001b[0m\u001b[0m\n\u001b[0;32m----> 8\u001b[0;31m \u001b[0;32mfrom\u001b[0m \u001b[0mkeras\u001b[0m\u001b[0;34m.\u001b[0m\u001b[0mlayers\u001b[0m\u001b[0;34m.\u001b[0m\u001b[0mnormalization\u001b[0m \u001b[0;32mimport\u001b[0m \u001b[0mBatchNormalization\u001b[0m\u001b[0;34m\u001b[0m\u001b[0;34m\u001b[0m\u001b[0m\n\u001b[0m",
            "\u001b[0;31mImportError\u001b[0m: cannot import name 'BatchNormalization' from 'keras.layers.normalization' (/usr/local/lib/python3.7/dist-packages/keras/layers/normalization/__init__.py)",
            "",
            "\u001b[0;31m---------------------------------------------------------------------------\u001b[0;32m\nNOTE: If your import is failing due to a missing package, you can\nmanually install dependencies using either !pip or !apt.\n\nTo view examples of installing some common dependencies, click the\n\"Open Examples\" button below.\n\u001b[0;31m---------------------------------------------------------------------------\u001b[0m\n"
          ],
          "errorDetails": {
            "actions": [
              {
                "action": "open_url",
                "actionText": "Open Examples",
                "url": "/notebooks/snippets/importing_libraries.ipynb"
              }
            ]
          }
        }
      ],
      "source": [
        "import tensorflow as tf\n",
        "from tensorflow import keras\n",
        "from keras.models import Sequential\n",
        "from keras.layers import Dense, Dropout, Activation\n",
        "from keras.initializers import RandomUniform\n",
        "from keras.optimizers import adam_v2, sgd_experimental # SGD\n",
        "#from keras.regularizers import l2\n",
        "from keras.layers.normalization import BatchNormalization"
      ]
    },
    {
      "cell_type": "code",
      "source": [
        "/usr/local/lib/python3.7/dist-packages/keras/layers/normalization/__init__.py"
      ],
      "metadata": {
        "id": "54Ii6V0Oz9m3"
      },
      "execution_count": null,
      "outputs": []
    },
    {
      "cell_type": "code",
      "source": [
        "open('/usr/local/lib/python3.7/dist-packages/keras/optimizers.py', mode = 'r')"
      ],
      "metadata": {
        "id": "FQvDAeQrLvhu"
      },
      "execution_count": null,
      "outputs": []
    },
    {
      "cell_type": "code",
      "execution_count": null,
      "metadata": {
        "id": "_kwSlHLrOXOa"
      },
      "outputs": [],
      "source": [
        "batch_size = 128\n",
        "num_classes = 1\n",
        "epochs = 100\n",
        "opt_function = Adam(lr = 0.001)\n",
        "#opt_function = SGD(lr = 0.001, momentum = 0.9)\n",
        "\n",
        "model = Sequential()\n",
        "\n",
        "model.add(Dense(2^6, input_dim = X_train_poly.shape[1], kernel_initializer='he_uniform', use_bias = True))\n",
        "model.add(Activation('relu'))\n",
        "\n",
        "model.add(Dense(2^4, kernel_initializer='he_uniform', use_bias = True))\n",
        "model.add(Activation('relu'))\n",
        "model.add(Dense(2^3, kernel_initializer='he_uniform', use_bias = True))\n",
        "model.add(Activation('relu'))\n",
        "\n",
        "model.add(Dense(num_classes))\n",
        "model.add(Activation('sigmoid'))\n",
        "\n",
        "model.compile(loss='binary_crossentropy', optimizer = opt_function, metrics = ['accuracy'])\n",
        "\n",
        "model.fit(X_train_poly, y_train,\n",
        "                    batch_size = batch_size,\n",
        "                    epochs = epochs,\n",
        "                    validation_split = 0.2)\n"
      ]
    },
    {
      "cell_type": "code",
      "execution_count": null,
      "metadata": {
        "id": "iAz1f5lMOXOa"
      },
      "outputs": [],
      "source": [
        "#prediction_dnn = model.predict(X_test_poly)"
      ]
    },
    {
      "cell_type": "code",
      "execution_count": null,
      "metadata": {
        "id": "G1AKbtavOXOb"
      },
      "outputs": [],
      "source": [
        "#submit = pd.read_csv('submission.csv', index_col = 'EDPS_CSN')\n",
        "#submit[\"predict\"] = prediction_dnn\n",
        "#submit.to_csv(\"pred_dnn.csv\")"
      ]
    },
    {
      "cell_type": "code",
      "execution_count": null,
      "metadata": {
        "id": "R5iqCFCJOXOb"
      },
      "outputs": [],
      "source": []
    }
  ],
  "metadata": {
    "kernelspec": {
      "display_name": "Python 3",
      "language": "python",
      "name": "python3"
    },
    "language_info": {
      "codemirror_mode": {
        "name": "ipython",
        "version": 3
      },
      "file_extension": ".py",
      "mimetype": "text/x-python",
      "name": "python",
      "nbconvert_exporter": "python",
      "pygments_lexer": "ipython3",
      "version": "3.7.1"
    },
    "colab": {
      "provenance": [],
      "collapsed_sections": []
    }
  },
  "nbformat": 4,
  "nbformat_minor": 0
}